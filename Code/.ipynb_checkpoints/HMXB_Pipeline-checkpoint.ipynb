{
 "cells": [
  {
   "cell_type": "markdown",
   "id": "7a7f92ec-7300-4822-901c-65d12ff232c8",
   "metadata": {},
   "source": [
    "#  Using the Formulas and Data I have now i can create a pipeline that inputs a simple table of distances and outputs all the Velocities I need "
   ]
  },
  {
   "cell_type": "code",
   "execution_count": 2,
   "id": "8bc8313e-1675-40ca-a9f3-c055a2b448b9",
   "metadata": {},
   "outputs": [],
   "source": [
    "#import modules\n",
    "import numpy as np\n",
    "import pandas as pd\n",
    "from astroquery.gaia import Gaia\n",
    "import matplotlib.pyplot as plt\n",
    "from astropy.table import Column, Table\n",
    "from astropy.io import ascii\n",
    "\n",
    "import astropy.coordinates as coords\n",
    "import astropy.units as u\n",
    "from astropy.coordinates import SkyCoord\n",
    "from astropy.visualization import astropy_mpl_style\n",
    "import os"
   ]
  },
  {
   "cell_type": "code",
   "execution_count": 3,
   "id": "203cc892-ad0b-408d-9887-acd56006d1ed",
   "metadata": {},
   "outputs": [
    {
     "data": {
      "text/plain": [
       "'/home/karan/Documents/UvA/Thesis/Code'"
      ]
     },
     "execution_count": 3,
     "metadata": {},
     "output_type": "execute_result"
    }
   ],
   "source": [
    "\n",
    "cwd = os.getcwd()\n",
    "cwd"
   ]
  },
  {
   "cell_type": "code",
   "execution_count": 4,
   "id": "24374a63-2e95-41cc-a176-cafb61d19678",
   "metadata": {},
   "outputs": [],
   "source": [
    "#import constants\n",
    "RUWE= 1.4 #Mitch\n",
    "R0 = 8.5 # kpc distance to the sun from galactic center\n",
    "sun_curve = 220 #km/s fich 1988, brand 1993\n",
    "### find these values\n",
    "#Johnson 1986\n",
    "ra_np = np.radians(192.25) # deg to radians right acsension of north pole\n",
    "dec_np = np.radians(27.4) # deg to radians decliatoin of north pole\n",
    "theta_o = np.radians(123) # deg to radiansradians\n",
    "k  = 4.74 #km/s per mas/yr \n",
    "\n",
    "#solar values\n",
    "# solar motion km/s \n",
    "# M. Carretero-Castrillo 2023 and Ried 2019\n",
    "U_sun = 10.8\n",
    "V_sun = 13.6\n",
    "W_sun = 7.6"
   ]
  },
  {
   "cell_type": "code",
   "execution_count": 5,
   "id": "a9e294a4-fc7d-4c05-bcf9-6c1dd122e5d3",
   "metadata": {},
   "outputs": [],
   "source": [
    "def make_query(list_ID, query):\n",
    "    '''Make a query for gaia DR3 using a list of GAIA identifers\n",
    "    input:\n",
    "    list_ID  - list: gaia source IDs, make sure IDs are clean\n",
    "    query - str: SQL query to use in GAIA\n",
    "    return;\n",
    "    Results- Astropy Table- query results from GAIA \n",
    "    \n",
    "    '''\n",
    "    #convert list to string map\n",
    "    str_map = ','.join(map(str,list_ID))\n",
    "    job = Gaia.launch_job(query)\n",
    "    results =job.get_results()\n",
    "    return results"
   ]
  },
  {
   "cell_type": "code",
   "execution_count": 6,
   "id": "4c96f042-222b-492a-aeef-18179271e8c6",
   "metadata": {},
   "outputs": [],
   "source": [
    "def modify_parllax_add_distance(table):\n",
    "    #offset Parallax\n",
    "    p_offset = 0.0 # from GAIA EDR3\n",
    "    table['parallax'] = table['parallax'] - p_offset # from GAIA EDR3\n",
    "    #add parallax units\n",
    "    table['parallax'].unit= u.mas\n",
    "    #add the distance to the table\n",
    "    distance = 1/table['parallax'] # kpc\n",
    "\n",
    "    table.add_column(distance, name='distance') # distance from object to sun in kpc\n",
    "    table['distance'].unit= u.kpc\n",
    "    return table\n"
   ]
  },
  {
   "cell_type": "code",
   "execution_count": 7,
   "id": "530c0caa-e78e-4708-ba7d-66f27fdd72e6",
   "metadata": {},
   "outputs": [],
   "source": [
    "def Galaxy_dist(table):\n",
    "    '''find the distance an object is to the center of the galaxy based on law of cosine\n",
    "    input:\n",
    "    long (l)- galactic longitutde in degree\n",
    "    lat(b)- galactic latitute in degrees \n",
    "    object_dist (d) - distance from the sun to the object in kpc\n",
    "    return \n",
    "    R - distance from the object to the galactic centre in kpc\n",
    "    '''\n",
    "    long = table['l']\n",
    "    lat = table['b']\n",
    "    long_rad = np.radians(long) #convert to radians\n",
    "    lat_rad = np.radians(lat)\n",
    "    obj_dist = table['distance'] # kpc\n",
    "    R_sqrd = R0**2 + (obj_dist**2 * np.cos(lat_rad)**2) - 2*R0*obj_dist*np.cos(long_rad)*np.cos(lat_rad)\n",
    "    galactic_dist = np.sqrt(R_sqrd)\n",
    "    table.add_column(galactic_dist, name = 'galactic distance')\n",
    "    table['galactic distance'].unit = u.kpc\n",
    "    return table"
   ]
  },
  {
   "cell_type": "code",
   "execution_count": 8,
   "id": "b8a10e93-ac54-4406-bb7d-8021c5187f4b",
   "metadata": {},
   "outputs": [],
   "source": [
    "def rotation_curve(table):\n",
    "    '''From brand 1993 and fich 1988\n",
    "    Calculate the circular velocity of a star based on its galactocentric distance\n",
    "    return in km/s'''\n",
    "    #best fit constants for rotational curve  fit\n",
    "    a1 = 1.00767\n",
    "    a2 = 0.0394\n",
    "    a3 = 0.00712\n",
    "    # fit from Brand 1988\n",
    "    gal_dist = table['galactic distance']\n",
    "    theta  = a1*((gal_dist/R0)**a2) + a3\n",
    "    theta = sun_curve*theta #km/s\n",
    "    table.add_column(theta, name='circular velocity')\n",
    "    table['circular velocity'].unit= u.km/u.s\n",
    "    return table\n"
   ]
  },
  {
   "cell_type": "code",
   "execution_count": 9,
   "id": "8c514136-a9ad-47f2-b34d-afcc4aceaf09",
   "metadata": {},
   "outputs": [],
   "source": [
    "def vlsr_model(table):\n",
    "    '''Calculate the Velocity as Local Standard of Rest based on \n",
    "    1) Galactocentric distance\n",
    "    2) Circular Velocity due to galactic rotation (see rotation_curve function)\n",
    "    3) Galactic Latitude and Longitude\n",
    "    \n",
    "    Compare with a model from Brand 1993 which reduces solar motion\n",
    "    input:\n",
    "    table- astropy table\n",
    "    plot- boolean'''\n",
    "    long = table['l']\n",
    "    lat = table['b']\n",
    "    gal_dist = table['galactic distance']\n",
    "    theta = table['circular velocity']\n",
    "    \n",
    "    long_rad = np.radians(long)\n",
    "    lat_rad = np.radians(lat)\n",
    "    V_lsr = (theta * (R0/gal_dist) - theta_o)*np.sin(long_rad)*np.cos(lat_rad)\n",
    "    table.add_column(V_lsr, name='LSR velocity')\n",
    "    table['LSR velocity'].unit= u.km/u.s\n",
    "    return table"
   ]
  },
  {
   "cell_type": "code",
   "execution_count": 10,
   "id": "4b3e386f-22a5-46a4-8f85-933aa6862606",
   "metadata": {},
   "outputs": [],
   "source": [
    "def make_sky(table):\n",
    "    '''Create a galactic coordinate table from astropy table proper motion, ra,dec and distance to object'''\n",
    "    ra = table['ra'] # deg\n",
    "    dec= table['dec']#deg\n",
    "    pmra= table['pmra'] #mas/yr\n",
    "    pmdec = table['pmdec']\n",
    "    distance = table['distance'] #kpc\n",
    "    sky = SkyCoord(ra = ra* u.deg, dec =dec *u.deg, pm_ra_cosdec= pmra*u.mas/u.yr, pm_dec=pmdec*u.mas/u.yr, distance=distance*u.kpc, frame='icrs')\n",
    "    galactic= sky.transform_to('galactic')\n",
    "    pm_l = galactic.pm_l_cosb\n",
    "    pm_b = galactic.pm_b\n",
    "    table.add_column(pm_l, name='pm_l')\n",
    "    table.add_column(pm_b, name='pm_b')\n",
    "    return table"
   ]
  },
  {
   "cell_type": "code",
   "execution_count": 11,
   "id": "2fc13bd5-ca44-4e72-9157-513b6a8a465f",
   "metadata": {},
   "outputs": [],
   "source": [
    "def transform_space_velocity(ra, dec):\n",
    "    '''Johnson 1986 calculate space velocities\n",
    "    Use a transformation Matrix to convert ra and dec corrdinates into space velocity components\n",
    "                                                UVW\n",
    "\n",
    "    Notes:\n",
    "    Transform is correct for Johnson 1986 constants\n",
    "    input:\n",
    "    ra- right ascension of star in radians\n",
    "    dec - declinatoin of star in radians\n",
    "\n",
    "    Transform - see johnson 1986\n",
    "    A- coordinate matrix\n",
    "    Return the dot product of Transform and A\n",
    "\n",
    "    \n",
    "    '''\n",
    "    \n",
    "    T1= np.array([[np.cos(theta_o), np.sin(theta_o), 0.0],\n",
    "                        [np.sin(theta_o), -np.cos(theta_o), 0.0],\n",
    "                        [0.0,0.0,1.0]])\n",
    "    T2 =  np.array([[-np.sin(dec_np), 0.0, np.cos(dec_np)],\n",
    "                        [0.0,-1.0,0.0],\n",
    "                        [np.cos(dec_np), 0.0, np.sin(dec_np)]])\n",
    "    T3 = np.array([[np.cos(ra_np), np.sin(ra_np), 0.0],\n",
    "                        [np.sin(ra_np), -np.cos(ra_np), 0.0],\n",
    "                        [0.0,0.0,1.0]])\n",
    "    # @ is a matrix operator\n",
    "    #this is correct with Johnson 1986 values \n",
    "    Transform = T1 @ T2 @ T3 # transformation matrix\n",
    "    A = np.array([[np.dot(np.cos(ra),np.cos(dec)), -np.sin(ra), np.dot(np.cos(ra),np.sin(dec))],\n",
    "                 [np.dot(np.sin(ra), np.cos(dec)), np.cos(ra), -np.dot(np.sin(ra), np.sin(dec))],\n",
    "                 [np.sin(dec), 0.0, np.cos(dec)]])\n",
    "    #each star will have a unique matrix\n",
    "    B = Transform @ A\n",
    "    return B"
   ]
  },
  {
   "cell_type": "code",
   "execution_count": 12,
   "id": "395bddf6-2191-4382-b679-b07bd6a5cfad",
   "metadata": {},
   "outputs": [],
   "source": [
    "def calculate_space_velocity(table):\n",
    "    '''Caulate the space velocity of a star WRT the local standard of rest, subtracting solar motion'''\n",
    "\n",
    "    UVW = []\n",
    "    for row in table:\n",
    "        ra = np.radians(row['ra'])\n",
    "        dec = np.radians(row['dec'])\n",
    "        \n",
    "        pmra = row['pmra'] * 1e-3  # mas/yr to as/yr\n",
    "        pmdec = row['pmdec'] * 1e-3\n",
    "        \n",
    "        prlx = row['parallax'] * 1e-3  # mas to as\n",
    "        radial = row['radial_velocity']  # km/s\n",
    "        B= transform_space_velocity(ra, dec) # calculate the transform tensor\n",
    "    \n",
    "        comp_array = np.array([radial, k*pmra/prlx, k*pmdec/prlx])\n",
    "        UVW_val = np.dot(B,comp_array)\n",
    "        #subtract solar motions\n",
    "        UVW_val[0] = UVW_val[0] - U_sun\n",
    "        UVW_val[1] = UVW_val[1] - V_sun\n",
    "        UVW_val[2] = UVW_val[2] - W_sun\n",
    "        UVW.append(UVW_val)\n",
    "    UVW = np.array([UVW])\n",
    "    space_U = UVW[:,0]*u.km/u.s\n",
    "    space_V = UVW[:,1]*u.km/u.s\n",
    "    space_W = UVW[:,2]*u.km/u.s\n",
    "    table.add_columns([space_U,space_V,space_W],names=['U','V','W'])\n",
    "    \n",
    "    return table\n",
    "    "
   ]
  },
  {
   "cell_type": "code",
   "execution_count": 13,
   "id": "baa3d194-238a-4be1-accb-3e7ca4b8e8b2",
   "metadata": {},
   "outputs": [],
   "source": [
    "def solar_proper_motion(table):\n",
    "    '''Calculate the proper motion compoent due to solar motion in the galactic plane\n",
    "    '''\n",
    "    lat = table['b']\n",
    "    long = table['l']\n",
    "    dist = table['distance']\n",
    "    #convert to radians\n",
    "    long_rad = np.radians(long)\n",
    "    lat_rad = np.radians(lat)\n",
    "    \n",
    "    Kr_mul_sol = U_sun*np.sin(long_rad) - V_sun*np.cos(lat_rad)\n",
    "    mul_sol = (Kr_mul_sol/(k*dist)) * u.mas/u.yr # need to specifiy units to subtract from proper motion\n",
    "    \n",
    "    Kr_mub_sol = U_sun*np.cos(long_rad)*np.sin(lat_rad) + V_sun*np.sin(long_rad)*np.sin(lat_rad) - W_sun*np.cos(lat_rad)\n",
    "    mub_sol = (Kr_mub_sol/(k*dist)) *u.mas/u.yr\n",
    "    table.add_columns([mul_sol,mub_sol],names=['mu_l_sol','mu_b_sol'])\n",
    "    return table"
   ]
  },
  {
   "cell_type": "code",
   "execution_count": 14,
   "id": "1a596720-3c9f-4b80-9e77-32ad4688a446",
   "metadata": {},
   "outputs": [],
   "source": [
    "def flat_rotation_curve(table):\n",
    "    '''Based off moffat 1998\n",
    "    Model the proper motion in l and b due to the galactic rotation curve\n",
    "    Uses flat rotation curve model good for 3 < R < 18 Kpc ( 2*R0)'''\n",
    "    R = table['galactic distance']\n",
    "    lat = table['b']\n",
    "    long = table['l']\n",
    "    dist = table['distance']\n",
    "    omega_0 = sun_curve/R0 # km/s per kpc\n",
    "    omega  =sun_curve/R\n",
    "    long_rad = np.radians(long)\n",
    "    lat_rad = np.radians(lat)\n",
    "    #calculate proper motion due to galactic rotation\n",
    "    K_mul_rot = ((R0/(dist*np.cos(lat_rad))) *(omega-omega_0)*np.cos(long_rad))-omega\n",
    "    mul_rot = K_mul_rot/(k)\n",
    "    #add units\n",
    "    mul_rot = mul_rot*u.mas/u.yr\n",
    "    #do the same for latitudal proper motion\n",
    "    K_mub_rot = -(R0 /dist)*(omega-omega_0)*np.sin(lat_rad)*np.sin(long_rad)\n",
    "    mub_rot = K_mub_rot/k*u.mas/u.yr\n",
    "    #ADD TO TABLE\n",
    "    table.add_column(mul_rot,name='pm_l_rot')\n",
    "    table.add_column(mub_rot,name='pm_b_rot')\n",
    "    return table"
   ]
  },
  {
   "cell_type": "code",
   "execution_count": null,
   "id": "c463a4f7-839d-421f-9d0a-219ed765b3d5",
   "metadata": {},
   "outputs": [],
   "source": []
  },
  {
   "cell_type": "code",
   "execution_count": null,
   "id": "de1525c4-66d9-4350-b58b-e015dff42985",
   "metadata": {},
   "outputs": [],
   "source": []
  },
  {
   "cell_type": "markdown",
   "id": "a7b899e5-9794-40f9-bcce-83107e9d8313",
   "metadata": {},
   "source": [
    "# all together"
   ]
  },
  {
   "cell_type": "code",
   "execution_count": 15,
   "id": "7a5d4f0f-846a-41e4-b2ae-275d0c70548f",
   "metadata": {},
   "outputs": [],
   "source": [
    "def lay_pipe(table,filename,filetype):\n",
    "    \n",
    "    #offset the parallax and add distance data\n",
    "    table = modify_parllax_add_distance(table)\n",
    "    #sky object proper motions in l and b\n",
    "    table = make_sky(table)\n",
    "    #galactocentric distance\n",
    "    table = Galaxy_dist(table)\n",
    "    #circular velocity \n",
    "    table= rotation_curve(table)\n",
    "    #local standard of rest\n",
    "    table = vlsr_model(table)\n",
    "\n",
    "    #space velocities \n",
    "    table = calculate_space_velocity(table)\n",
    "    #solar proper motion\n",
    "    table = solar_proper_motion(table)\n",
    "    #flat rortation curve\n",
    "    table = flat_rotation_curve(table)\n",
    "    #write the table\n",
    "    table.write(filename, format=filetype,overwrite=True)\n",
    "    return table"
   ]
  },
  {
   "cell_type": "code",
   "execution_count": null,
   "id": "2787fb4e-08a4-45d9-8847-fb762e6b4324",
   "metadata": {},
   "outputs": [],
   "source": []
  },
  {
   "cell_type": "code",
   "execution_count": 17,
   "id": "e14d084b-6231-4f61-9dce-c65d1de5fa99",
   "metadata": {},
   "outputs": [
    {
     "ename": "FileNotFoundError",
     "evalue": "[Errno 2] No such file or directory: 'HMXB_with XRBCATS.csv'",
     "output_type": "error",
     "traceback": [
      "\u001b[0;31m---------------------------------------------------------------------------\u001b[0m",
      "\u001b[0;31mFileNotFoundError\u001b[0m                         Traceback (most recent call last)",
      "Cell \u001b[0;32mIn[17], line 1\u001b[0m\n\u001b[0;32m----> 1\u001b[0m test_table \u001b[38;5;241m=\u001b[39m \u001b[43mascii\u001b[49m\u001b[38;5;241;43m.\u001b[39;49m\u001b[43mread\u001b[49m\u001b[43m(\u001b[49m\u001b[38;5;124;43m'\u001b[39;49m\u001b[38;5;124;43mHMXB_with XRBCATS.csv\u001b[39;49m\u001b[38;5;124;43m'\u001b[39;49m\u001b[43m,\u001b[49m\u001b[38;5;28;43mformat\u001b[39;49m\u001b[38;5;241;43m=\u001b[39;49m\u001b[38;5;124;43m'\u001b[39;49m\u001b[38;5;124;43mcsv\u001b[39;49m\u001b[38;5;124;43m'\u001b[39;49m\u001b[43m)\u001b[49m\n\u001b[1;32m      2\u001b[0m \u001b[38;5;66;03m#IT WORKS\u001b[39;00m\n\u001b[1;32m      3\u001b[0m test_output \u001b[38;5;241m=\u001b[39m lay_pipe(test_table, filename\u001b[38;5;241m=\u001b[39m\u001b[38;5;124m'\u001b[39m\u001b[38;5;124mTest_XRBCATS.ecsv\u001b[39m\u001b[38;5;124m'\u001b[39m,filetype\u001b[38;5;241m=\u001b[39m\u001b[38;5;124m'\u001b[39m\u001b[38;5;124mascii.ecsv\u001b[39m\u001b[38;5;124m'\u001b[39m)\n",
      "File \u001b[0;32m~/miniforge3/envs/GAIA_Query/lib/python3.12/site-packages/astropy/utils/decorators.py:603\u001b[0m, in \u001b[0;36mdeprecated_renamed_argument.<locals>.decorator.<locals>.wrapper\u001b[0;34m(*args, **kwargs)\u001b[0m\n\u001b[1;32m    600\u001b[0m             msg \u001b[38;5;241m+\u001b[39m\u001b[38;5;241m=\u001b[39m \u001b[38;5;124mf\u001b[39m\u001b[38;5;124m\"\u001b[39m\u001b[38;5;130;01m\\n\u001b[39;00m\u001b[38;5;124m        Use \u001b[39m\u001b[38;5;132;01m{\u001b[39;00malternative\u001b[38;5;132;01m}\u001b[39;00m\u001b[38;5;124m instead.\u001b[39m\u001b[38;5;124m\"\u001b[39m\n\u001b[1;32m    601\u001b[0m         warnings\u001b[38;5;241m.\u001b[39mwarn(msg, warning_type, stacklevel\u001b[38;5;241m=\u001b[39m\u001b[38;5;241m2\u001b[39m)\n\u001b[0;32m--> 603\u001b[0m \u001b[38;5;28;01mreturn\u001b[39;00m \u001b[43mfunction\u001b[49m\u001b[43m(\u001b[49m\u001b[38;5;241;43m*\u001b[39;49m\u001b[43margs\u001b[49m\u001b[43m,\u001b[49m\u001b[43m \u001b[49m\u001b[38;5;241;43m*\u001b[39;49m\u001b[38;5;241;43m*\u001b[39;49m\u001b[43mkwargs\u001b[49m\u001b[43m)\u001b[49m\n",
      "File \u001b[0;32m~/miniforge3/envs/GAIA_Query/lib/python3.12/site-packages/astropy/utils/decorators.py:603\u001b[0m, in \u001b[0;36mdeprecated_renamed_argument.<locals>.decorator.<locals>.wrapper\u001b[0;34m(*args, **kwargs)\u001b[0m\n\u001b[1;32m    600\u001b[0m             msg \u001b[38;5;241m+\u001b[39m\u001b[38;5;241m=\u001b[39m \u001b[38;5;124mf\u001b[39m\u001b[38;5;124m\"\u001b[39m\u001b[38;5;130;01m\\n\u001b[39;00m\u001b[38;5;124m        Use \u001b[39m\u001b[38;5;132;01m{\u001b[39;00malternative\u001b[38;5;132;01m}\u001b[39;00m\u001b[38;5;124m instead.\u001b[39m\u001b[38;5;124m\"\u001b[39m\n\u001b[1;32m    601\u001b[0m         warnings\u001b[38;5;241m.\u001b[39mwarn(msg, warning_type, stacklevel\u001b[38;5;241m=\u001b[39m\u001b[38;5;241m2\u001b[39m)\n\u001b[0;32m--> 603\u001b[0m \u001b[38;5;28;01mreturn\u001b[39;00m \u001b[43mfunction\u001b[49m\u001b[43m(\u001b[49m\u001b[38;5;241;43m*\u001b[39;49m\u001b[43margs\u001b[49m\u001b[43m,\u001b[49m\u001b[43m \u001b[49m\u001b[38;5;241;43m*\u001b[39;49m\u001b[38;5;241;43m*\u001b[39;49m\u001b[43mkwargs\u001b[49m\u001b[43m)\u001b[49m\n",
      "    \u001b[0;31m[... skipping similar frames: deprecated_renamed_argument.<locals>.decorator.<locals>.wrapper at line 603 (2 times)]\u001b[0m\n",
      "File \u001b[0;32m~/miniforge3/envs/GAIA_Query/lib/python3.12/site-packages/astropy/utils/decorators.py:603\u001b[0m, in \u001b[0;36mdeprecated_renamed_argument.<locals>.decorator.<locals>.wrapper\u001b[0;34m(*args, **kwargs)\u001b[0m\n\u001b[1;32m    600\u001b[0m             msg \u001b[38;5;241m+\u001b[39m\u001b[38;5;241m=\u001b[39m \u001b[38;5;124mf\u001b[39m\u001b[38;5;124m\"\u001b[39m\u001b[38;5;130;01m\\n\u001b[39;00m\u001b[38;5;124m        Use \u001b[39m\u001b[38;5;132;01m{\u001b[39;00malternative\u001b[38;5;132;01m}\u001b[39;00m\u001b[38;5;124m instead.\u001b[39m\u001b[38;5;124m\"\u001b[39m\n\u001b[1;32m    601\u001b[0m         warnings\u001b[38;5;241m.\u001b[39mwarn(msg, warning_type, stacklevel\u001b[38;5;241m=\u001b[39m\u001b[38;5;241m2\u001b[39m)\n\u001b[0;32m--> 603\u001b[0m \u001b[38;5;28;01mreturn\u001b[39;00m \u001b[43mfunction\u001b[49m\u001b[43m(\u001b[49m\u001b[38;5;241;43m*\u001b[39;49m\u001b[43margs\u001b[49m\u001b[43m,\u001b[49m\u001b[43m \u001b[49m\u001b[38;5;241;43m*\u001b[39;49m\u001b[38;5;241;43m*\u001b[39;49m\u001b[43mkwargs\u001b[49m\u001b[43m)\u001b[49m\n",
      "File \u001b[0;32m~/miniforge3/envs/GAIA_Query/lib/python3.12/site-packages/astropy/io/ascii/ui.py:428\u001b[0m, in \u001b[0;36mread\u001b[0;34m(table, guess, **kwargs)\u001b[0m\n\u001b[1;32m    426\u001b[0m fast_reader_rdr \u001b[38;5;241m=\u001b[39m get_reader(\u001b[38;5;241m*\u001b[39m\u001b[38;5;241m*\u001b[39mfast_kwargs)\n\u001b[1;32m    427\u001b[0m \u001b[38;5;28;01mtry\u001b[39;00m:\n\u001b[0;32m--> 428\u001b[0m     dat \u001b[38;5;241m=\u001b[39m \u001b[43mfast_reader_rdr\u001b[49m\u001b[38;5;241;43m.\u001b[39;49m\u001b[43mread\u001b[49m\u001b[43m(\u001b[49m\u001b[43mtable\u001b[49m\u001b[43m)\u001b[49m\n\u001b[1;32m    429\u001b[0m     _read_trace\u001b[38;5;241m.\u001b[39mappend(\n\u001b[1;32m    430\u001b[0m         {\n\u001b[1;32m    431\u001b[0m             \u001b[38;5;124m\"\u001b[39m\u001b[38;5;124mkwargs\u001b[39m\u001b[38;5;124m\"\u001b[39m: copy\u001b[38;5;241m.\u001b[39mdeepcopy(fast_kwargs),\n\u001b[0;32m   (...)\u001b[0m\n\u001b[1;32m    434\u001b[0m         }\n\u001b[1;32m    435\u001b[0m     )\n\u001b[1;32m    436\u001b[0m \u001b[38;5;28;01mexcept\u001b[39;00m (\n\u001b[1;32m    437\u001b[0m     core\u001b[38;5;241m.\u001b[39mParameterError,\n\u001b[1;32m    438\u001b[0m     cparser\u001b[38;5;241m.\u001b[39mCParserError,\n\u001b[1;32m    439\u001b[0m     \u001b[38;5;167;01mUnicodeEncodeError\u001b[39;00m,\n\u001b[1;32m    440\u001b[0m ) \u001b[38;5;28;01mas\u001b[39;00m err:\n\u001b[1;32m    441\u001b[0m     \u001b[38;5;66;03m# special testing value to avoid falling back on the slow reader\u001b[39;00m\n",
      "File \u001b[0;32m~/miniforge3/envs/GAIA_Query/lib/python3.12/site-packages/astropy/io/ascii/fastbasic.py:131\u001b[0m, in \u001b[0;36mFastBasic.read\u001b[0;34m(self, table)\u001b[0m\n\u001b[1;32m    128\u001b[0m \u001b[38;5;66;03m# Put fast_reader dict back into kwargs.\u001b[39;00m\n\u001b[1;32m    129\u001b[0m \u001b[38;5;28mself\u001b[39m\u001b[38;5;241m.\u001b[39mkwargs[\u001b[38;5;124m\"\u001b[39m\u001b[38;5;124mfast_reader\u001b[39m\u001b[38;5;124m\"\u001b[39m] \u001b[38;5;241m=\u001b[39m fast_reader\n\u001b[0;32m--> 131\u001b[0m \u001b[38;5;28mself\u001b[39m\u001b[38;5;241m.\u001b[39mengine \u001b[38;5;241m=\u001b[39m \u001b[43mcparser\u001b[49m\u001b[38;5;241;43m.\u001b[39;49m\u001b[43mCParser\u001b[49m\u001b[43m(\u001b[49m\n\u001b[1;32m    132\u001b[0m \u001b[43m    \u001b[49m\u001b[43mtable\u001b[49m\u001b[43m,\u001b[49m\n\u001b[1;32m    133\u001b[0m \u001b[43m    \u001b[49m\u001b[38;5;28;43mself\u001b[39;49m\u001b[38;5;241;43m.\u001b[39;49m\u001b[43mstrip_whitespace_lines\u001b[49m\u001b[43m,\u001b[49m\n\u001b[1;32m    134\u001b[0m \u001b[43m    \u001b[49m\u001b[38;5;28;43mself\u001b[39;49m\u001b[38;5;241;43m.\u001b[39;49m\u001b[43mstrip_whitespace_fields\u001b[49m\u001b[43m,\u001b[49m\n\u001b[1;32m    135\u001b[0m \u001b[43m    \u001b[49m\u001b[43mdelimiter\u001b[49m\u001b[38;5;241;43m=\u001b[39;49m\u001b[38;5;28;43mself\u001b[39;49m\u001b[38;5;241;43m.\u001b[39;49m\u001b[43mdelimiter\u001b[49m\u001b[43m,\u001b[49m\n\u001b[1;32m    136\u001b[0m \u001b[43m    \u001b[49m\u001b[43mheader_start\u001b[49m\u001b[38;5;241;43m=\u001b[39;49m\u001b[38;5;28;43mself\u001b[39;49m\u001b[38;5;241;43m.\u001b[39;49m\u001b[43mheader_start\u001b[49m\u001b[43m,\u001b[49m\n\u001b[1;32m    137\u001b[0m \u001b[43m    \u001b[49m\u001b[43mcomment\u001b[49m\u001b[38;5;241;43m=\u001b[39;49m\u001b[38;5;28;43mself\u001b[39;49m\u001b[38;5;241;43m.\u001b[39;49m\u001b[43mcomment\u001b[49m\u001b[43m,\u001b[49m\n\u001b[1;32m    138\u001b[0m \u001b[43m    \u001b[49m\u001b[43mquotechar\u001b[49m\u001b[38;5;241;43m=\u001b[39;49m\u001b[38;5;28;43mself\u001b[39;49m\u001b[38;5;241;43m.\u001b[39;49m\u001b[43mquotechar\u001b[49m\u001b[43m,\u001b[49m\n\u001b[1;32m    139\u001b[0m \u001b[43m    \u001b[49m\u001b[43mdata_start\u001b[49m\u001b[38;5;241;43m=\u001b[39;49m\u001b[38;5;28;43mself\u001b[39;49m\u001b[38;5;241;43m.\u001b[39;49m\u001b[43mdata_start\u001b[49m\u001b[43m,\u001b[49m\n\u001b[1;32m    140\u001b[0m \u001b[43m    \u001b[49m\u001b[43mfill_extra_cols\u001b[49m\u001b[38;5;241;43m=\u001b[39;49m\u001b[38;5;28;43mself\u001b[39;49m\u001b[38;5;241;43m.\u001b[39;49m\u001b[43mfill_extra_cols\u001b[49m\u001b[43m,\u001b[49m\n\u001b[1;32m    141\u001b[0m \u001b[43m    \u001b[49m\u001b[38;5;241;43m*\u001b[39;49m\u001b[38;5;241;43m*\u001b[39;49m\u001b[38;5;28;43mself\u001b[39;49m\u001b[38;5;241;43m.\u001b[39;49m\u001b[43mkwargs\u001b[49m\u001b[43m,\u001b[49m\n\u001b[1;32m    142\u001b[0m \u001b[43m\u001b[49m\u001b[43m)\u001b[49m\n\u001b[1;32m    143\u001b[0m conversion_info \u001b[38;5;241m=\u001b[39m \u001b[38;5;28mself\u001b[39m\u001b[38;5;241m.\u001b[39m_read_header()\n\u001b[1;32m    144\u001b[0m \u001b[38;5;28mself\u001b[39m\u001b[38;5;241m.\u001b[39mcheck_header()\n",
      "File \u001b[0;32m~/miniforge3/envs/GAIA_Query/lib/python3.12/site-packages/astropy/io/ascii/cparser.pyx:242\u001b[0m, in \u001b[0;36mastropy.io.ascii.cparser.CParser.__cinit__\u001b[0;34m()\u001b[0m\n",
      "File \u001b[0;32m~/miniforge3/envs/GAIA_Query/lib/python3.12/site-packages/astropy/io/ascii/cparser.pyx:282\u001b[0m, in \u001b[0;36mastropy.io.ascii.cparser.CParser.setup_tokenizer\u001b[0;34m()\u001b[0m\n",
      "File \u001b[0;32m~/miniforge3/envs/GAIA_Query/lib/python3.12/site-packages/astropy/io/ascii/cparser.pyx:133\u001b[0m, in \u001b[0;36mastropy.io.ascii.cparser.FileString.__cinit__\u001b[0;34m()\u001b[0m\n",
      "\u001b[0;31mFileNotFoundError\u001b[0m: [Errno 2] No such file or directory: 'HMXB_with XRBCATS.csv'"
     ]
    }
   ],
   "source": [
    "test_table = ascii.read('HMXB_with XRBCATS.csv',format='csv')\n",
    "#IT WORKS\n",
    "test_output = lay_pipe(test_table, filename='Test_XRBCATS.ecsv',filetype='ascii.ecsv')"
   ]
  },
  {
   "cell_type": "code",
   "execution_count": null,
   "id": "db88bfa4-e31f-4d27-9b8d-83003b62cae3",
   "metadata": {},
   "outputs": [],
   "source": [
    "test_output"
   ]
  },
  {
   "cell_type": "code",
   "execution_count": null,
   "id": "f2ab4afd-e553-430e-97b6-3cde7c99ee5b",
   "metadata": {},
   "outputs": [],
   "source": [
    "negative_parallax_mask = test_output['parallax'] < 0\n",
    "negative_parallax = test_output[negative_parallax_mask]"
   ]
  },
  {
   "cell_type": "code",
   "execution_count": null,
   "id": "65791fbb-9b41-4b26-8b03-8c7933f41275",
   "metadata": {},
   "outputs": [],
   "source": [
    "negative_parallax"
   ]
  },
  {
   "cell_type": "code",
   "execution_count": null,
   "id": "db831c05-9a24-4b82-9eac-9b339f154b91",
   "metadata": {},
   "outputs": [],
   "source": [
    "negative_parallax_ID = negative_parallax['source_id']\n",
    "negative_parallax_ID"
   ]
  },
  {
   "cell_type": "code",
   "execution_count": null,
   "id": "92157f61-e821-48ec-ab8c-99c331eb05d1",
   "metadata": {},
   "outputs": [],
   "source": [
    "str_negative_parallax = ','.join(map(str,negative_parallax_ID))"
   ]
  },
  {
   "cell_type": "code",
   "execution_count": null,
   "id": "2fce955b-ed92-493f-a40f-398e1c5bf9ed",
   "metadata": {},
   "outputs": [],
   "source": [
    "print(str_negative_parallax)"
   ]
  }
 ],
 "metadata": {
  "kernelspec": {
   "display_name": "Python 3 (ipykernel)",
   "language": "python",
   "name": "python3"
  },
  "language_info": {
   "codemirror_mode": {
    "name": "ipython",
    "version": 3
   },
   "file_extension": ".py",
   "mimetype": "text/x-python",
   "name": "python",
   "nbconvert_exporter": "python",
   "pygments_lexer": "ipython3",
   "version": "3.12.6"
  }
 },
 "nbformat": 4,
 "nbformat_minor": 5
}
