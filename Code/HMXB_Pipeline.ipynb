{
 "cells": [
  {
   "cell_type": "markdown",
   "id": "7a7f92ec-7300-4822-901c-65d12ff232c8",
   "metadata": {},
   "source": [
    "#  Using the Formulas and Data I have now i can create a pipeline that inputs a simple table of distances and outputs all the Velocities I need "
   ]
  },
  {
   "cell_type": "code",
   "execution_count": 1,
   "id": "8bc8313e-1675-40ca-a9f3-c055a2b448b9",
   "metadata": {},
   "outputs": [],
   "source": [
    "#import modules\n",
    "import numpy as np\n",
    "import pandas as pd\n",
    "from astroquery.gaia import Gaia\n",
    "import matplotlib.pyplot as plt\n",
    "from astropy.table import Column, Table\n",
    "from astropy.io import ascii\n",
    "\n",
    "import astropy.coordinates as coords\n",
    "import astropy.units as u\n",
    "from astropy.coordinates import SkyCoord\n",
    "from astropy.visualization import astropy_mpl_style\n",
    "import os"
   ]
  },
  {
   "cell_type": "code",
   "execution_count": 2,
   "id": "203cc892-ad0b-408d-9887-acd56006d1ed",
   "metadata": {},
   "outputs": [
    {
     "data": {
      "text/plain": [
       "'/home/karan/Documents/UvA/Thesis/Code'"
      ]
     },
     "execution_count": 2,
     "metadata": {},
     "output_type": "execute_result"
    }
   ],
   "source": [
    "\n",
    "cwd = os.getcwd()\n",
    "cwd"
   ]
  },
  {
   "cell_type": "code",
   "execution_count": 3,
   "id": "24374a63-2e95-41cc-a176-cafb61d19678",
   "metadata": {},
   "outputs": [],
   "source": [
    "#import constants\n",
    "RUWE= 1.4 #Mitch\n",
    "R0 = 8.5 # kpc distance to the sun from galactic center\n",
    "sun_curve = 220 #km/s fich 1988, brand 1993\n",
    "### find these values\n",
    "#Johnson 1986\n",
    "ra_np = np.radians(192.25) # deg to radians right acsension of north pole\n",
    "dec_np = np.radians(27.4) # deg to radians decliatoin of north pole\n",
    "theta_o = np.radians(123) # deg to radiansradians\n",
    "k  = 4.74 #km/s per mas/yr \n",
    "\n",
    "#solar values\n",
    "# solar motion km/s \n",
    "# M. Carretero-Castrillo 2023 and Ried 2019\n",
    "U_sun = 10.8\n",
    "V_sun = 13.6\n",
    "W_sun = 7.6"
   ]
  },
  {
   "cell_type": "code",
   "execution_count": 4,
   "id": "a9e294a4-fc7d-4c05-bcf9-6c1dd122e5d3",
   "metadata": {},
   "outputs": [],
   "source": [
    "def make_query(list_ID, query):\n",
    "    '''Make a query for gaia DR3 using a list of GAIA identifers\n",
    "    input:\n",
    "    list_ID  - list: gaia source IDs, make sure IDs are clean\n",
    "    query - str: SQL query to use in GAIA\n",
    "    return;\n",
    "    Results- Astropy Table- query results from GAIA \n",
    "    \n",
    "    '''\n",
    "    #convert list to string map\n",
    "    str_map = ','.join(map(str,list_ID))\n",
    "    job = Gaia.launch_job(query)\n",
    "    results =job.get_results()\n",
    "    return results"
   ]
  },
  {
   "cell_type": "code",
   "execution_count": 5,
   "id": "4c96f042-222b-492a-aeef-18179271e8c6",
   "metadata": {},
   "outputs": [],
   "source": [
    "def modify_parllax_add_distance(table):\n",
    "    #offset Parallax\n",
    "    p_offset = 0.0 # from GAIA EDR3\n",
    "    table['parallax'] = table['parallax'] - p_offset # from GAIA EDR3\n",
    "    #add parallax units\n",
    "    table['parallax'].unit= u.mas\n",
    "    #add the distance to the table\n",
    "    distance = 1/table['parallax'] # kpc\n",
    "\n",
    "    table.add_column(distance, name='distance') # distance from object to sun in kpc\n",
    "    table['distance'].unit= u.kpc\n",
    "    return table\n"
   ]
  },
  {
   "cell_type": "code",
   "execution_count": 6,
   "id": "530c0caa-e78e-4708-ba7d-66f27fdd72e6",
   "metadata": {},
   "outputs": [],
   "source": [
    "def Galaxy_dist(table):\n",
    "    '''find the distance an object is to the center of the galaxy based on law of cosine\n",
    "    input:\n",
    "    long (l)- galactic longitutde in degree\n",
    "    lat(b)- galactic latitute in degrees \n",
    "    object_dist (d) - distance from the sun to the object in kpc\n",
    "    return \n",
    "    R - distance from the object to the galactic centre in kpc\n",
    "    '''\n",
    "    long = table['l']\n",
    "    lat = table['b']\n",
    "    long_rad = np.radians(long) #convert to radians\n",
    "    lat_rad = np.radians(lat)\n",
    "    obj_dist = table['distance'] # kpc\n",
    "    R_sqrd = R0**2 + (obj_dist**2 * np.cos(lat_rad)**2) - 2*R0*obj_dist*np.cos(long_rad)*np.cos(lat_rad)\n",
    "    galactic_dist = np.sqrt(R_sqrd)\n",
    "    table.add_column(galactic_dist, name = 'galactic distance')\n",
    "    table['galactic distance'].unit = u.kpc\n",
    "    return table"
   ]
  },
  {
   "cell_type": "code",
   "execution_count": 7,
   "id": "b8a10e93-ac54-4406-bb7d-8021c5187f4b",
   "metadata": {},
   "outputs": [],
   "source": [
    "def rotation_curve(table):\n",
    "    '''From brand 1993 and fich 1988\n",
    "    Calculate the circular velocity of a star based on its galactocentric distance\n",
    "    return in km/s'''\n",
    "    #best fit constants for rotational curve  fit\n",
    "    a1 = 1.00767\n",
    "    a2 = 0.0394\n",
    "    a3 = 0.00712\n",
    "    # fit from Brand 1988\n",
    "    gal_dist = table['galactic distance']\n",
    "    theta  = a1*((gal_dist/R0)**a2) + a3\n",
    "    theta = sun_curve*theta #km/s\n",
    "    table.add_column(theta, name='circular velocity')\n",
    "    table['circular velocity'].unit= u.km/u.s\n",
    "    return table\n"
   ]
  },
  {
   "cell_type": "code",
   "execution_count": 8,
   "id": "8c514136-a9ad-47f2-b34d-afcc4aceaf09",
   "metadata": {},
   "outputs": [],
   "source": [
    "def vlsr_model(table):\n",
    "    '''Calculate the Velocity as Local Standard of Rest based on \n",
    "    1) Galactocentric distance\n",
    "    2) Circular Velocity due to galactic rotation (see rotation_curve function)\n",
    "    3) Galactic Latitude and Longitude\n",
    "    \n",
    "    Compare with a model from Brand 1993 which reduces solar motion\n",
    "    input:\n",
    "    table- astropy table\n",
    "    plot- boolean'''\n",
    "    long = table['l']\n",
    "    lat = table['b']\n",
    "    gal_dist = table['galactic distance']\n",
    "    theta = table['circular velocity']\n",
    "    \n",
    "    long_rad = np.radians(long)\n",
    "    lat_rad = np.radians(lat)\n",
    "    V_lsr = (theta * (R0/gal_dist) - theta_o)*np.sin(long_rad)*np.cos(lat_rad)\n",
    "    table.add_column(V_lsr, name='LSR velocity')\n",
    "    table['LSR velocity'].unit= u.km/u.s\n",
    "    return table"
   ]
  },
  {
   "cell_type": "code",
   "execution_count": 9,
   "id": "4b3e386f-22a5-46a4-8f85-933aa6862606",
   "metadata": {},
   "outputs": [],
   "source": [
    "def make_sky(table):\n",
    "    '''Create a galactic coordinate table from astropy table proper motion, ra,dec and distance to object'''\n",
    "    ra = table['ra'] # deg\n",
    "    dec= table['dec']#deg\n",
    "    pmra= table['pmra'] #mas/yr\n",
    "    pmdec = table['pmdec']\n",
    "    distance = table['distance'] #kpc\n",
    "    sky = SkyCoord(ra = ra* u.deg, dec =dec *u.deg, pm_ra_cosdec= pmra*u.mas/u.yr, pm_dec=pmdec*u.mas/u.yr, distance=distance*u.kpc, frame='icrs')\n",
    "    galactic= sky.transform_to('galactic')\n",
    "    pm_l = galactic.pm_l_cosb\n",
    "    pm_b = galactic.pm_b\n",
    "    table.add_column(pm_l, name='pm_l')\n",
    "    table.add_column(pm_b, name='pm_b')\n",
    "    return table"
   ]
  },
  {
   "cell_type": "code",
   "execution_count": 10,
   "id": "2fc13bd5-ca44-4e72-9157-513b6a8a465f",
   "metadata": {},
   "outputs": [],
   "source": [
    "def transform_space_velocity(ra, dec):\n",
    "    '''Johnson 1986 calculate space velocities\n",
    "    Use a transformation Matrix to convert ra and dec corrdinates into space velocity components\n",
    "                                                UVW\n",
    "\n",
    "    Notes:\n",
    "    Transform is correct for Johnson 1986 constants\n",
    "    input:\n",
    "    ra- right ascension of star in radians\n",
    "    dec - declinatoin of star in radians\n",
    "\n",
    "    Transform - see johnson 1986\n",
    "    A- coordinate matrix\n",
    "    Return the dot product of Transform and A\n",
    "\n",
    "    \n",
    "    '''\n",
    "    \n",
    "    T1= np.array([[np.cos(theta_o), np.sin(theta_o), 0.0],\n",
    "                        [np.sin(theta_o), -np.cos(theta_o), 0.0],\n",
    "                        [0.0,0.0,1.0]])\n",
    "    T2 =  np.array([[-np.sin(dec_np), 0.0, np.cos(dec_np)],\n",
    "                        [0.0,-1.0,0.0],\n",
    "                        [np.cos(dec_np), 0.0, np.sin(dec_np)]])\n",
    "    T3 = np.array([[np.cos(ra_np), np.sin(ra_np), 0.0],\n",
    "                        [np.sin(ra_np), -np.cos(ra_np), 0.0],\n",
    "                        [0.0,0.0,1.0]])\n",
    "    # @ is a matrix operator\n",
    "    #this is correct with Johnson 1986 values \n",
    "    Transform = T1 @ T2 @ T3 # transformation matrix\n",
    "    A = np.array([[np.dot(np.cos(ra),np.cos(dec)), -np.sin(ra), np.dot(np.cos(ra),np.sin(dec))],\n",
    "                 [np.dot(np.sin(ra), np.cos(dec)), np.cos(ra), -np.dot(np.sin(ra), np.sin(dec))],\n",
    "                 [np.sin(dec), 0.0, np.cos(dec)]])\n",
    "    #each star will have a unique matrix\n",
    "    B = Transform @ A\n",
    "    return B"
   ]
  },
  {
   "cell_type": "code",
   "execution_count": 11,
   "id": "395bddf6-2191-4382-b679-b07bd6a5cfad",
   "metadata": {},
   "outputs": [],
   "source": [
    "def calculate_space_velocity(table):\n",
    "    '''Caulate the space velocity of a star WRT the local standard of rest, subtracting solar motion'''\n",
    "\n",
    "    UVW = []\n",
    "    for row in table:\n",
    "        ra = np.radians(row['ra'])\n",
    "        dec = np.radians(row['dec'])\n",
    "        \n",
    "        pmra = row['pmra'] * 1e-3  # mas/yr to as/yr\n",
    "        pmdec = row['pmdec'] * 1e-3\n",
    "        \n",
    "        prlx = row['parallax'] * 1e-3  # mas to as\n",
    "        radial = row['radial_velocity']  # km/s\n",
    "        B= transform_space_velocity(ra, dec) # calculate the transform tensor\n",
    "    \n",
    "        comp_array = np.array([radial, k*pmra/prlx, k*pmdec/prlx])\n",
    "        UVW_val = np.dot(B,comp_array)\n",
    "        #subtract solar motions\n",
    "        UVW_val[0] = UVW_val[0] - U_sun\n",
    "        UVW_val[1] = UVW_val[1] - V_sun\n",
    "        UVW_val[2] = UVW_val[2] - W_sun\n",
    "        UVW.append(UVW_val)\n",
    "    UVW = np.array([UVW])\n",
    "    space_U = UVW[:,0]*u.km/u.s\n",
    "    space_V = UVW[:,1]*u.km/u.s\n",
    "    space_W = UVW[:,2]*u.km/u.s\n",
    "    table.add_columns([space_U,space_V,space_W],names=['U','V','W'])\n",
    "    \n",
    "    return table\n",
    "    "
   ]
  },
  {
   "cell_type": "code",
   "execution_count": 12,
   "id": "baa3d194-238a-4be1-accb-3e7ca4b8e8b2",
   "metadata": {},
   "outputs": [],
   "source": [
    "def solar_proper_motion(table):\n",
    "    '''Calculate the proper motion compoent due to solar motion in the galactic plane\n",
    "    '''\n",
    "    lat = table['b']\n",
    "    long = table['l']\n",
    "    dist = table['distance']\n",
    "    #convert to radians\n",
    "    long_rad = np.radians(long)\n",
    "    lat_rad = np.radians(lat)\n",
    "    \n",
    "    Kr_mul_sol = U_sun*np.sin(long_rad) - V_sun*np.cos(lat_rad)\n",
    "    mul_sol = (Kr_mul_sol/(k*dist)) * u.mas/u.yr # need to specifiy units to subtract from proper motion\n",
    "    \n",
    "    Kr_mub_sol = U_sun*np.cos(long_rad)*np.sin(lat_rad) + V_sun*np.sin(long_rad)*np.sin(lat_rad) - W_sun*np.cos(lat_rad)\n",
    "    mub_sol = (Kr_mub_sol/(k*dist)) *u.mas/u.yr\n",
    "    table.add_columns([mul_sol,mub_sol],names=['mu_l_sol','mu_b_sol'])\n",
    "    return table"
   ]
  },
  {
   "cell_type": "code",
   "execution_count": 13,
   "id": "1a596720-3c9f-4b80-9e77-32ad4688a446",
   "metadata": {},
   "outputs": [],
   "source": [
    "def flat_rotation_curve(table):\n",
    "    '''Based off moffat 1998\n",
    "    Model the proper motion in l and b due to the galactic rotation curve\n",
    "    Uses flat rotation curve model good for 3 < R < 18 Kpc ( 2*R0)'''\n",
    "    R = table['galactic distance']\n",
    "    lat = table['b']\n",
    "    long = table['l']\n",
    "    dist = table['distance']\n",
    "    omega_0 = sun_curve/R0 # km/s per kpc\n",
    "    omega  =sun_curve/R\n",
    "    long_rad = np.radians(long)\n",
    "    lat_rad = np.radians(lat)\n",
    "    #calculate proper motion due to galactic rotation\n",
    "    K_mul_rot = ((R0/(dist*np.cos(lat_rad))) *(omega-omega_0)*np.cos(long_rad))-omega\n",
    "    mul_rot = K_mul_rot/(k)\n",
    "    #add units\n",
    "    mul_rot = mul_rot*u.mas/u.yr\n",
    "    #do the same for latitudal proper motion\n",
    "    K_mub_rot = -(R0 /dist)*(omega-omega_0)*np.sin(lat_rad)*np.sin(long_rad)\n",
    "    mub_rot = K_mub_rot/k*u.mas/u.yr\n",
    "    #ADD TO TABLE\n",
    "    table.add_column(mul_rot,name='pm_l_rot')\n",
    "    table.add_column(mub_rot,name='pm_b_rot')\n",
    "    return table"
   ]
  },
  {
   "cell_type": "code",
   "execution_count": null,
   "id": "c463a4f7-839d-421f-9d0a-219ed765b3d5",
   "metadata": {},
   "outputs": [],
   "source": []
  },
  {
   "cell_type": "code",
   "execution_count": null,
   "id": "de1525c4-66d9-4350-b58b-e015dff42985",
   "metadata": {},
   "outputs": [],
   "source": []
  },
  {
   "cell_type": "markdown",
   "id": "a7b899e5-9794-40f9-bcce-83107e9d8313",
   "metadata": {},
   "source": [
    "# all together"
   ]
  },
  {
   "cell_type": "code",
   "execution_count": 14,
   "id": "7a5d4f0f-846a-41e4-b2ae-275d0c70548f",
   "metadata": {},
   "outputs": [],
   "source": [
    "def lay_pipe(table,filename,filetype):\n",
    "    \n",
    "    #offset the parallax and add distance data\n",
    "    table = modify_parllax_add_distance(table)\n",
    "    #sky object proper motions in l and b\n",
    "    table = make_sky(table)\n",
    "    #galactocentric distance\n",
    "    table = Galaxy_dist(table)\n",
    "    #circular velocity \n",
    "    table= rotation_curve(table)\n",
    "    #local standard of rest\n",
    "    table = vlsr_model(table)\n",
    "\n",
    "    #space velocities \n",
    "    table = calculate_space_velocity(table)\n",
    "    #solar proper motion\n",
    "    table = solar_proper_motion(table)\n",
    "    #flat rortation curve\n",
    "    table = flat_rotation_curve(table)\n",
    "    #write the table\n",
    "    table.write(filename, format=filetype,overwrite=True)\n",
    "    return table"
   ]
  },
  {
   "cell_type": "code",
   "execution_count": null,
   "id": "2787fb4e-08a4-45d9-8847-fb762e6b4324",
   "metadata": {},
   "outputs": [],
   "source": []
  },
  {
   "cell_type": "code",
   "execution_count": 17,
   "id": "e14d084b-6231-4f61-9dce-c65d1de5fa99",
   "metadata": {},
   "outputs": [],
   "source": [
    "test_table = ascii.read('/home/karan/Documents/UvA/Thesis/DATA/HMXB_20250205_.csv',format='csv')\n",
    "#IT WORKS\n",
    "#test_output = lay_pipe(test_table, filename='Test_XRBCATS.ecsv',filetype='ascii.ecsv')"
   ]
  },
  {
   "cell_type": "code",
   "execution_count": 19,
   "id": "db88bfa4-e31f-4d27-9b8d-83003b62cae3",
   "metadata": {},
   "outputs": [
    {
     "data": {
      "text/html": [
       "<div><i>Table length=121</i>\n",
       "<table id=\"table124432923950016\" class=\"table-striped table-bordered table-condensed\">\n",
       "<thead><tr><th>source_id</th><th>ra</th><th>ra_error</th><th>dec</th><th>dec_error</th><th>pmra</th><th>pmra_error</th><th>pmdec</th><th>pmdec_error</th><th>parallax</th><th>parallax_error</th><th>radial_velocity</th><th>radial_velocity_error</th><th>phot_g_mean_mag</th><th>l</th><th>b</th><th>phot_bp_mean_mag</th><th>phot_rp_mean_mag</th><th>bp_rp</th><th>distance</th><th>pm_l_poleski</th><th>pm_b_poleski</th><th>galactic distance</th><th>circular velocity</th><th>LSR velocity</th><th>mu_l_sol</th><th>mu_b_sol</th><th>mu_l_rot</th><th>mu_b_rot</th><th>Peculiar Velocity</th><th>peculiar_mu_l</th><th>peculiar_mu_b</th><th>dist_err</th><th>SpType</th><th>Mod_SpType</th><th>SpColor</th><th>Name</th><th>Mx</th><th>Mx_err</th><th>Mo</th><th>Mo_err</th></tr></thead>\n",
       "<thead><tr><th>int64</th><th>float64</th><th>float64</th><th>float64</th><th>float64</th><th>float64</th><th>float64</th><th>float64</th><th>float64</th><th>float64</th><th>float64</th><th>float64</th><th>float64</th><th>float64</th><th>float64</th><th>float64</th><th>float64</th><th>float64</th><th>float64</th><th>float64</th><th>float64</th><th>float64</th><th>float64</th><th>float64</th><th>float64</th><th>float64</th><th>float64</th><th>float64</th><th>float64</th><th>float64</th><th>float64</th><th>float64</th><th>float64</th><th>str21</th><th>str17</th><th>str10</th><th>str23</th><th>float64</th><th>float64</th><th>float64</th><th>float64</th></tr></thead>\n",
       "<tr><td>3441207615229815040</td><td>84.72739245821431</td><td>0.020250700414180756</td><td>26.31577524440175</td><td>0.015788812190294266</td><td>-0.5898287895613142</td><td>0.030902111902832985</td><td>-2.879557993302878</td><td>0.01621093973517418</td><td>0.5245380785708109</td><td>0.023250581696629524</td><td>-60.0</td><td>nan</td><td>8.601999282836914</td><td>181.44504956690048</td><td>-2.643537066457817</td><td>8.987546920776367</td><td>8.01044750213623</td><td>0.9770994186401367</td><td>1.9064392860183996</td><td>2.12603198111763</td><td>-2.0297143279424583</td><td>10.403915664294958</td><td>225.02622744453242</td><td>-4.5772627558119305</td><td>1.4743856024086786</td><td>-0.7832807603717467</td><td>-0.0025775251985549665</td><td>0.005181971135181485</td><td>12.762149422593925</td><td>0.6542239039075064</td><td>-1.2516155387058931</td><td>0.08450448914978252</td><td>O9.7IIIe</td><td>xkcd:bright blue</td><td>xkcd:blue</td><td>1A 0535+262</td><td>--</td><td>--</td><td>20.0</td><td>--</td></tr>\n",
       "<tr><td>5336957010898124160</td><td>170.23817252151974</td><td>0.008774157613515854</td><td>-61.91670671055608</td><td>0.009544741362333298</td><td>-5.421032061547652</td><td>0.012438164092600346</td><td>1.3700031073878873</td><td>0.011767985299229622</td><td>0.32925822598102933</td><td>0.011463727802038193</td><td>nan</td><td>nan</td><td>11.589363098144531</td><td>292.49852714674694</td><td>-0.8918067117070271</td><td>12.270934104919434</td><td>10.759902000427246</td><td>1.5110321044921875</td><td>3.03712989104672</td><td>-5.567951674993604</td><td>-0.5122609408455543</td><td>7.8560253894545635</td><td>222.56671751604506</td><td>-220.47262223549708</td><td>-1.054611102383597</td><td>-0.5187441308440925</td><td>-5.428597657240247</td><td>-0.018013469887746873</td><td>13.18075554666247</td><td>0.9152570846302401</td><td>0.024496659886285126</td><td>0.10574323622942539</td><td>O9.5Ve</td><td>xkcd:dark blue</td><td>xkcd:blue</td><td>1A 1118-61</td><td>--</td><td>--</td><td>--</td><td>--</td></tr>\n",
       "<tr><td>5334851450481641088</td><td>176.86894042633617</td><td>0.007541968487203121</td><td>-61.953719225831875</td><td>0.008998828940093517</td><td>-6.225580251990721</td><td>0.01041429303586483</td><td>2.361537685037365</td><td>0.011920752003788948</td><td>0.12669559944899778</td><td>0.010234012268483639</td><td>nan</td><td>nan</td><td>12.255293846130371</td><td>295.48972809721556</td><td>-0.00970401441105653</td><td>13.309616088867188</td><td>11.227763175964355</td><td>2.081852912902832</td><td>7.892933964155221</td><td>-6.606609744728988</td><td>0.8291063820044122</td><td>8.763800120419218</td><td>223.52091675977692</td><td>-193.7528220168817</td><td>-0.4170130760677609</td><td>-0.20310608662182214</td><td>-5.372222021128227</td><td>2.7060920841833756e-05</td><td>49.25833635059616</td><td>-0.8173746475330006</td><td>1.0321854077053925</td><td>0.6375626570677606</td><td>B2Iae</td><td>xkcd:dark green</td><td>xkcd:green</td><td>1E 1145.1-6141</td><td>1.7</td><td>0.3</td><td>14.0</td><td>4.0</td></tr>\n",
       "<tr><td>6053076566300433920</td><td>183.31156879290245</td><td>0.012357387691736221</td><td>-64.87513252303748</td><td>0.015193149447441101</td><td>-5.95305662663964</td><td>0.01588580757379532</td><td>0.449629791184431</td><td>0.02075292356312275</td><td>0.26448691327892004</td><td>0.01766935922205448</td><td>nan</td><td>nan</td><td>13.976888656616211</td><td>298.89007133029565</td><td>-2.303521643360621</td><td>14.39801025390625</td><td>13.351907730102539</td><td>1.046102523803711</td><td>3.7809054051208566</td><td>-5.958118420264099</td><td>-0.37666303137996027</td><td>7.449418244846888</td><td>222.10444742848472</td><td>-219.8306787168525</td><td>-0.8942614068632253</td><td>-0.40872604268783935</td><td>-5.393397656845806</td><td>-0.06092405130983405</td><td>6.1364723359412885</td><td>0.3295406434449326</td><td>0.09298706261771314</td><td>0.25258783113112304</td><td>B5V</td><td>xkcd:red</td><td>xkcd:red</td><td>1ES 1210-64.6</td><td>--</td><td>--</td><td>--</td><td>--</td></tr>\n",
       "<tr><td>5255509901121774976</td><td>154.7315592681715</td><td>0.00934557057917118</td><td>-58.94609420856299</td><td>0.009438585489988327</td><td>-6.454306520313594</td><td>0.013439311645925045</td><td>2.256007949459996</td><td>0.01335159968584776</td><td>0.2273178405234294</td><td>0.010232986882328987</td><td>nan</td><td>nan</td><td>12.269230842590332</td><td>284.351776705235</td><td>-1.6900802660463154</td><td>12.882477760314941</td><td>11.495985984802246</td><td>1.3864917755126953</td><td>4.3991267807989365</td><td>-6.6488043210162475</td><td>-1.5940657536704546</td><td>8.547292409868648</td><td>223.3022676369862</td><td>-212.96405708690497</td><td>-0.6634443517918205</td><td>-0.34946803248438035</td><td>-5.444675837248132</td><td>0.0016679885391937266</td><td>28.32721701626133</td><td>-0.5406841319762945</td><td>-1.2462657097252678</td><td>0.19803200020711922</td><td>O6V((f))</td><td>xkcd:blue</td><td>xkcd:blue</td><td>1FGL J1018.6-5856</td><td>2.0</td><td>--</td><td>22.9</td><td>--</td></tr>\n",
       "<tr><td>1979911002134040960</td><td>330.4091919702234</td><td>0.0112070357427001</td><td>50.16795238313883</td><td>0.011057302355766296</td><td>2.364625293266044</td><td>0.014718983322381973</td><td>-0.2937024864956449</td><td>0.013353955931961536</td><td>0.8781947661310571</td><td>0.013396814465522766</td><td>nan</td><td>nan</td><td>9.304606437683105</td><td>97.24776932144769</td><td>-4.041208697923339</td><td>9.407649040222168</td><td>9.073572158813477</td><td>0.3340768814086914</td><td>1.1386995670739004</td><td>1.7284177853776819</td><td>-1.6402090986570457</td><td>8.716439817701456</td><td>223.47353491258164</td><td>213.5213484311505</td><td>2.3028503458441034</td><td>-1.5629398824262077</td><td>-5.196815291195641</td><td>-0.07075834955835932</td><td>24.94903946557588</td><td>4.622382730729219</td><td>-0.0065108666724786185</td><td>0.017370801353402254</td><td>B3e</td><td>xkcd:green</td><td>xkcd:green</td><td>1H 2202+501</td><td>--</td><td>--</td><td>--</td><td>--</td></tr>\n",
       "<tr><td>2021785421455305344</td><td>295.5465223645784</td><td>0.03207533434033394</td><td>25.934890350462474</td><td>0.04769733175635338</td><td>-1.953244017446547</td><td>0.0427125059068203</td><td>-3.987108346450195</td><td>0.05859220772981644</td><td>0.019283663596520964</td><td>0.060263168066740036</td><td>nan</td><td>nan</td><td>17.05453872680664</td><td>61.58010557440001</td><td>1.3548851543347347</td><td>18.785175323486328</td><td>15.808351516723633</td><td>2.9768238067626953</td><td>51.85736595096036</td><td>-4.428399138706507</td><td>-0.3185533335675472</td><td>48.37853309750426</td><td>238.97542281770822</td><td>35.02942981289191</td><td>0.012309721192800972</td><td>-0.02926528515580618</td><td>-1.3106064521009737</td><td>0.015342190572350652</td><td>773.0265682081879</td><td>-3.1301024077983346</td><td>-0.3046302389840917</td><td>162.0588921891883</td><td>--</td><td>xkcd:black</td><td>xkcd:grey</td><td>1RXS J194211.9+255552</td><td>--</td><td>--</td><td>--</td><td>--</td></tr>\n",
       "<tr><td>2033989790047905024</td><td>300.09104899633587</td><td>0.014430977404117584</td><td>32.18973933161206</td><td>0.017375720664858818</td><td>-2.850743997098801</td><td>0.02021029405295849</td><td>-4.300169718523636</td><td>0.023098601028323174</td><td>0.06746486507910339</td><td>0.021092984825372696</td><td>nan</td><td>nan</td><td>15.064558029174805</td><td>68.98602751827119</td><td>1.1341894069944143</td><td>16.446447372436523</td><td>13.904094696044922</td><td>2.5423526763916016</td><td>14.82253019890409</td><td>-5.158080851424149</td><td>0.11136819686971562</td><td>14.196091749210199</td><td>227.77929350001756</td><td>125.28525571703477</td><td>0.07408075150879062</td><td>-0.1034825141147826</td><td>-3.7200864746749893</td><td>0.023215381902318248</td><td>107.08637018851347</td><td>-1.5120751282579503</td><td>0.19163532908217995</td><td>4.634284885807226</td><td>early BV or mid BIII</td><td>xkcd:black</td><td>xkcd:grey</td><td>2MASS J20002185+3211232</td><td>--</td><td>--</td><td>--</td><td>--</td></tr>\n",
       "<tr><td>5862285700835092352</td><td>195.49460523930014</td><td>0.05994626507163048</td><td>-63.96912167623403</td><td>0.06522805243730545</td><td>-6.287527903127519</td><td>0.07625846564769745</td><td>-0.5842041216372096</td><td>0.09208860248327255</td><td>0.07560265052473944</td><td>0.08420749753713608</td><td>nan</td><td>nan</td><td>17.30669403076172</td><td>304.08825128367016</td><td>-1.1210396150921411</td><td>19.536026000976562</td><td>15.889301300048828</td><td>3.6467247009277344</td><td>13.227049489128298</td><td>-6.308944793395759</td><td>-0.26742696616007106</td><td>11.00613375283375</td><td>225.52220028287795</td><td>-142.43815935922726</td><td>-0.2642372278063586</td><td>-0.11957040166846716</td><td>-4.664962569853177</td><td>0.012946241375655938</td><td>87.09029581650708</td><td>-1.3797449957362238</td><td>-0.16080280586725984</td><td>14.732509105813348</td><td>B0-6Ve</td><td>xkcd:purple</td><td>xkcd:green</td><td>2RXP J130159.6-635806</td><td>--</td><td>--</td><td>--</td><td>--</td></tr>\n",
       "<tr><td>...</td><td>...</td><td>...</td><td>...</td><td>...</td><td>...</td><td>...</td><td>...</td><td>...</td><td>...</td><td>...</td><td>...</td><td>...</td><td>...</td><td>...</td><td>...</td><td>...</td><td>...</td><td>...</td><td>...</td><td>...</td><td>...</td><td>...</td><td>...</td><td>...</td><td>...</td><td>...</td><td>...</td><td>...</td><td>...</td><td>...</td><td>...</td><td>...</td><td>...</td><td>...</td><td>...</td><td>...</td><td>...</td><td>...</td><td>...</td><td>...</td></tr>\n",
       "<tr><td>276644757710014976</td><td>64.92556123476727</td><td>0.012604312971234322</td><td>55.999360679043434</td><td>0.008108320645987988</td><td>-0.4735607216045463</td><td>0.01827656850218773</td><td>-0.5096656032780096</td><td>0.013492867350578308</td><td>0.2100882458297216</td><td>0.014864281751215458</td><td>nan</td><td>nan</td><td>10.766115188598633</td><td>149.17651611413766</td><td>4.133059262254314</td><td>11.439369201660156</td><td>9.855047225952148</td><td>1.5843219757080078</td><td>4.759904563202022</td><td>0.02670675915560328</td><td>-0.6952017931699837</td><td>12.810032757999913</td><td>226.8654620531654</td><td>75.83556855602039</td><td>0.7629157021820535</td><td>-0.3433404950633777</td><td>-0.7985036619761263</td><td>0.12115839202699431</td><td>10.764396229063566</td><td>0.06229471894967609</td><td>-0.47301969013360023</td><td>0.3367754452749184</td><td>B1/2I[e]</td><td>xkcd:green</td><td>xkcd:green</td><td>XTE J0421+560</td><td>--</td><td>--</td><td>--</td><td>--</td></tr>\n",
       "<tr><td>5882543824607819776</td><td>236.02135471814512</td><td>0.23264913260936737</td><td>-56.76187017074616</td><td>0.21859543025493622</td><td>-4.167843287744988</td><td>0.3054322898387909</td><td>-2.6135336595940055</td><td>0.28812435269355774</td><td>-0.05039768082917262</td><td>0.30544930696487427</td><td>nan</td><td>nan</td><td>nan</td><td>324.9605894142377</td><td>-1.4644638526861036</td><td>nan</td><td>17.34893798828125</td><td>nan</td><td>-19.842182885152752</td><td>-4.894085386231645</td><td>0.499403737776991</td><td>27.23592679334108</td><td>233.66178514412294</td><td>-40.622176124027646</td><td>0.18432163729220988</td><td>0.08106106079678584</td><td>-0.3862202043510229</td><td>-0.02361099368163245</td><td>-443.26254699921276</td><td>-4.692186819172832</td><td>0.4419536706618376</td><td>120.2591252459364</td><td>Be?</td><td>xkcd:green</td><td>xkcd:red</td><td>XTE J1543-568</td><td>--</td><td>--</td><td>--</td><td>--</td></tr>\n",
       "<tr><td>4056922105185686784</td><td>264.79812927251425</td><td>0.040432728826999664</td><td>-30.34381326584938</td><td>0.032697077840566635</td><td>-0.42745718004650846</td><td>0.04873871058225632</td><td>3.760039450836629</td><td>0.033256132155656815</td><td>0.5159549421559745</td><td>0.0480206273496151</td><td>nan</td><td>nan</td><td>12.643312454223633</td><td>358.067753895708</td><td>0.4452361176333438</td><td>15.008058547973633</td><td>11.256568908691406</td><td>3.7514896392822266</td><td>1.9381537384279914</td><td>2.957305428865046</td><td>2.3611355134821164</td><td>6.563332112962362</td><td>221.00680939822192</td><td>-9.578002084216209</td><td>-1.5191735721234876</td><td>-0.818502367630684</td><td>-0.009225976924893723</td><td>0.0018514319493084263</td><td>50.502502978941095</td><td>4.485704977913427</td><td>3.1777864491634915</td><td>0.18038660126096484</td><td>O8Iab(f)</td><td>xkcd:blue</td><td>xkcd:blue</td><td>XTE J1739-302</td><td>--</td><td>--</td><td>33.7</td><td>--</td></tr>\n",
       "<tr><td>4040960662373474176</td><td>265.75551465281137</td><td>0.08151785284280777</td><td>-36.37284591519637</td><td>0.05715549737215042</td><td>-4.482602975761192</td><td>0.10855074971914291</td><td>-1.6461457547450966</td><td>0.0531751848757267</td><td>0.015284659682691548</td><td>0.09846801310777664</td><td>nan</td><td>nan</td><td>15.22121810913086</td><td>353.370063329925</td><td>-3.4202891724245283</td><td>19.521650314331055</td><td>13.430912971496582</td><td>6.090737342834473</td><td>65.42507460158939</td><td>-3.7415792978069162</td><td>2.967171994069623</td><td>56.8738478480584</td><td>240.4935271254432</td><td>-3.8949904654218415</td><td>-0.04758229878728848</td><td>-0.026225129075285576</td><td>-1.4165025170506065</td><td>0.0041562100735622375</td><td>1165.4107266526821</td><td>-2.277494481969021</td><td>2.9892409130713467</td><td>421.48646009710285</td><td>OI</td><td>xkcd:blue</td><td>xkcd:blue</td><td>XTE J1743-363</td><td>--</td><td>--</td><td>29.63</td><td>--</td></tr>\n",
       "<tr><td>4255891924062617088</td><td>283.8766800200503</td><td>0.014235791750252247</td><td>-2.604679419397789</td><td>0.014256108552217484</td><td>-2.519200396441113</td><td>0.016839295625686646</td><td>-6.766008688499971</td><td>0.015563220717012882</td><td>0.07777430499571139</td><td>0.016119282692670822</td><td>nan</td><td>nan</td><td>13.440664291381836</td><td>31.07634694239799</td><td>-2.092060444110593</td><td>14.776262283325195</td><td>12.309270858764648</td><td>2.466991424560547</td><td>12.85771695491386</td><td>-7.167415166949448</td><td>-0.8679884992724095</td><td>7.089773327131759</td><td>221.67490236804963</td><td>135.98539148263757</td><td>-0.09965266938579061</td><td>-0.1343637354615373</td><td>-5.9311616122481405</td><td>0.013529855075546547</td><td>82.89722483123768</td><td>-1.1366008853155174</td><td>-0.7471546188864187</td><td>2.664854085035304</td><td>B0Iaep</td><td>xkcd:green</td><td>xkcd:red</td><td>XTE J1855-026</td><td>--</td><td>--</td><td>--</td><td>--</td></tr>\n",
       "<tr><td>4310118570535453696</td><td>284.75680882608543</td><td>0.2963730990886688</td><td>8.245457254312521</td><td>0.33733880519866943</td><td>-1.990330774755356</td><td>0.36828628182411194</td><td>-3.255504337241219</td><td>0.36267372965812683</td><td>-0.09095131417807156</td><td>0.3779982924461365</td><td>nan</td><td>nan</td><td>19.470138549804688</td><td>41.134383384326995</td><td>2.0764458051903394</td><td>20.9979305267334</td><td>18.006860733032227</td><td>2.991069793701172</td><td>-10.994893356264454</td><td>-3.8065332857455756</td><td>0.26463073752993077</td><td>18.26646413246279</td><td>230.0374044781114</td><td>68.95905779480354</td><td>0.060222815511654704</td><td>0.13385822120014465</td><td>-0.8398763575645535</td><td>-0.053796126660194</td><td>-158.0412354981633</td><td>-3.026879743692677</td><td>0.18456864298998013</td><td>45.69533658588257</td><td>B0-2Ve</td><td>xkcd:purple</td><td>xkcd:green</td><td>XTE J1859+083</td><td>--</td><td>--</td><td>12.5</td><td>--</td></tr>\n",
       "<tr><td>4310649153642824320</td><td>286.1977687539877</td><td>0.5593506097793579</td><td>9.044911040402665</td><td>0.6179036498069763</td><td>-0.8740526031784608</td><td>0.7261876463890076</td><td>-4.776992721613207</td><td>0.8123673796653748</td><td>0.32751956172944796</td><td>0.6127469539642334</td><td>nan</td><td>nan</td><td>19.756729125976562</td><td>42.49718850001616</td><td>1.1748721935698823</td><td>21.705068588256836</td><td>18.256303787231445</td><td>3.4487648010253906</td><td>3.0532527422776163</td><td>-4.636993512852653</td><td>-1.4428855038536512</td><td>6.5807415268839815</td><td>221.02971385034718</td><td>191.3751409712591</td><td>-0.18873412274546006</td><td>-0.5007283163529396</td><td>-3.7834244105996433</td><td>-0.06140982539357132</td><td>15.97037369402148</td><td>-0.6648349795075497</td><td>-0.8807473621071403</td><td>5.712242980646789</td><td>Be?</td><td>xkcd:green</td><td>xkcd:red</td><td>XTE J1906+090</td><td>--</td><td>--</td><td>--</td><td>--</td></tr>\n",
       "<tr><td>2028089540103670144</td><td>296.4139748795565</td><td>0.01702195405960083</td><td>27.365399152475934</td><td>0.022254357114434242</td><td>-2.4130254444730657</td><td>0.023112494498491287</td><td>-4.043007630284439</td><td>0.028101064264774323</td><td>0.02069077540146113</td><td>0.029170023277401924</td><td>nan</td><td>nan</td><td>15.688565254211426</td><td>63.207143530473964</td><td>1.3955652936534102</td><td>17.111873626708984</td><td>14.524065971374512</td><td>2.5878076553344727</td><td>48.330716495495984</td><td>-4.708307340567436</td><td>0.021082717363817907</td><td>45.12729700022343</td><td>238.32557255587662</td><td>38.143158801287136</td><td>0.015322142809046127</td><td>-0.03135706294592575</td><td>-1.3799544126171988</td><td>0.016945272952254727</td><td>766.0376420257808</td><td>-3.343675070759283</td><td>0.035494507357488936</td><td>68.13703681146595</td><td>B01-IVVe</td><td>xkcd:purple</td><td>xkcd:green</td><td>XTE J1946+274</td><td>--</td><td>--</td><td>15.0</td><td>0.0</td></tr>\n",
       "<tr><td>426558460884582016</td><td>14.177450998208093</td><td>1.8335996866226196</td><td>60.71672280471204</td><td>2.3911945819854736</td><td>nan</td><td>nan</td><td>nan</td><td>nan</td><td>nan</td><td>nan</td><td>nan</td><td>nan</td><td>2.0645833015441895</td><td>123.57698659515256</td><td>-2.1484240190698634</td><td>2.7258431911468506</td><td>2.31510853767395</td><td>0.4107346534729004</td><td>nan</td><td>nan</td><td>nan</td><td>nan</td><td>nan</td><td>nan</td><td>nan</td><td>nan</td><td>nan</td><td>nan</td><td>nan</td><td>nan</td><td>nan</td><td>nan</td><td>B0.5IVpe</td><td>xkcd:purple</td><td>xkcd:green</td><td>gam Cas</td><td>--</td><td>--</td><td>13.0</td><td>0.0</td></tr>\n",
       "<tr><td>6060547335455660032</td><td>193.6534512999999</td><td>0.062005579471588135</td><td>-57.168711407421895</td><td>0.08000237494707108</td><td>-28.38602111310031</td><td>0.08820656687021255</td><td>-10.446722229219034</td><td>0.11208841949701309</td><td>8.266773469896965</td><td>0.11696327477693558</td><td>nan</td><td>nan</td><td>5.147207260131836</td><td>303.3645146851053</td><td>5.700370988443033</td><td>5.079194068908691</td><td>5.1973466873168945</td><td>-0.11815261840820312</td><td>0.12096617908322384</td><td>-28.607431330086722</td><td>-9.824208500546414</td><td>8.43440111930301</td><td>223.18614035669546</td><td>-185.1392584919189</td><td>-28.775944317172986</td><td>-14.12791932027623</td><td>-3.8535434597302074</td><td>0.24755455347538802</td><td>3.275265123890909</td><td>4.022056446816471</td><td>4.056156266254429</td><td>0.001711502134944004</td><td>B5Vne</td><td>xkcd:dark purple</td><td>xkcd:green</td><td>mu.02 Cru</td><td>--</td><td>--</td><td>--</td><td>--</td></tr>\n",
       "</table></div>"
      ],
      "text/plain": [
       "<Table length=121>\n",
       "     source_id              ra               ra_error       ...    Mo    Mo_err\n",
       "       int64             float64             float64        ... float64 float64\n",
       "------------------- ------------------ -------------------- ... ------- -------\n",
       "3441207615229815040  84.72739245821431 0.020250700414180756 ...    20.0      --\n",
       "5336957010898124160 170.23817252151974 0.008774157613515854 ...      --      --\n",
       "5334851450481641088 176.86894042633617 0.007541968487203121 ...    14.0     4.0\n",
       "6053076566300433920 183.31156879290245 0.012357387691736221 ...      --      --\n",
       "5255509901121774976  154.7315592681715  0.00934557057917118 ...    22.9      --\n",
       "1979911002134040960  330.4091919702234   0.0112070357427001 ...      --      --\n",
       "2021785421455305344  295.5465223645784  0.03207533434033394 ...      --      --\n",
       "2033989790047905024 300.09104899633587 0.014430977404117584 ...      --      --\n",
       "5862285700835092352 195.49460523930014  0.05994626507163048 ...      --      --\n",
       "                ...                ...                  ... ...     ...     ...\n",
       " 276644757710014976  64.92556123476727 0.012604312971234322 ...      --      --\n",
       "5882543824607819776 236.02135471814512  0.23264913260936737 ...      --      --\n",
       "4056922105185686784 264.79812927251425 0.040432728826999664 ...    33.7      --\n",
       "4040960662373474176 265.75551465281137  0.08151785284280777 ...   29.63      --\n",
       "4255891924062617088  283.8766800200503 0.014235791750252247 ...      --      --\n",
       "4310118570535453696 284.75680882608543   0.2963730990886688 ...    12.5      --\n",
       "4310649153642824320  286.1977687539877   0.5593506097793579 ...      --      --\n",
       "2028089540103670144  296.4139748795565  0.01702195405960083 ...    15.0     0.0\n",
       " 426558460884582016 14.177450998208093   1.8335996866226196 ...    13.0     0.0\n",
       "6060547335455660032  193.6534512999999 0.062005579471588135 ...      --      --"
      ]
     },
     "execution_count": 19,
     "metadata": {},
     "output_type": "execute_result"
    }
   ],
   "source": [
    "test_table"
   ]
  },
  {
   "cell_type": "code",
   "execution_count": 21,
   "id": "f2ab4afd-e553-430e-97b6-3cde7c99ee5b",
   "metadata": {},
   "outputs": [],
   "source": [
    "negative_parallax_mask = test_table['parallax'] < 0\n",
    "negative_parallax = test_table[negative_parallax_mask]"
   ]
  },
  {
   "cell_type": "code",
   "execution_count": 22,
   "id": "65791fbb-9b41-4b26-8b03-8c7933f41275",
   "metadata": {},
   "outputs": [
    {
     "data": {
      "text/html": [
       "<div><i>Table length=8</i>\n",
       "<table id=\"table124430412697520\" class=\"table-striped table-bordered table-condensed\">\n",
       "<thead><tr><th>source_id</th><th>ra</th><th>ra_error</th><th>dec</th><th>dec_error</th><th>pmra</th><th>pmra_error</th><th>pmdec</th><th>pmdec_error</th><th>parallax</th><th>parallax_error</th><th>radial_velocity</th><th>radial_velocity_error</th><th>phot_g_mean_mag</th><th>l</th><th>b</th><th>phot_bp_mean_mag</th><th>phot_rp_mean_mag</th><th>bp_rp</th><th>distance</th><th>pm_l_poleski</th><th>pm_b_poleski</th><th>galactic distance</th><th>circular velocity</th><th>LSR velocity</th><th>mu_l_sol</th><th>mu_b_sol</th><th>mu_l_rot</th><th>mu_b_rot</th><th>Peculiar Velocity</th><th>peculiar_mu_l</th><th>peculiar_mu_b</th><th>dist_err</th><th>SpType</th><th>Mod_SpType</th><th>SpColor</th><th>Name</th><th>Mx</th><th>Mx_err</th><th>Mo</th><th>Mo_err</th></tr></thead>\n",
       "<thead><tr><th>int64</th><th>float64</th><th>float64</th><th>float64</th><th>float64</th><th>float64</th><th>float64</th><th>float64</th><th>float64</th><th>float64</th><th>float64</th><th>float64</th><th>float64</th><th>float64</th><th>float64</th><th>float64</th><th>float64</th><th>float64</th><th>float64</th><th>float64</th><th>float64</th><th>float64</th><th>float64</th><th>float64</th><th>float64</th><th>float64</th><th>float64</th><th>float64</th><th>float64</th><th>float64</th><th>float64</th><th>float64</th><th>float64</th><th>str21</th><th>str17</th><th>str10</th><th>str23</th><th>float64</th><th>float64</th><th>float64</th><th>float64</th></tr></thead>\n",
       "<tr><td>4256500538116700160</td><td>280.251804741005</td><td>0.03932623937726021</td><td>-5.596266865591954</td><td>0.033235520124435425</td><td>-2.0680431345707846</td><td>0.046430107206106186</td><td>-5.376487117697893</td><td>0.04031432792544365</td><td>-0.0698917346894323</td><td>0.040199145674705505</td><td>nan</td><td>nan</td><td>12.965173721313477</td><td>26.764284956669265</td><td>-0.23881101580482592</td><td>14.4266357421875</td><td>11.725309371948242</td><td>2.701326370239258</td><td>-14.307843473102421</td><td>-5.724411931387568</td><td>-0.6438355170417409</td><td>22.22912256780664</td><td>231.81163106067137</td><td>38.94958303771176</td><td>0.10733718394965369</td><td>0.1130307508664231</td><td>-0.2990800376216155</td><td>0.0037604805652874953</td><td>-378.7504078537227</td><td>-5.532669077715607</td><td>-0.7606267484734516</td><td>8.229343378325018</td><td>B1Ib</td><td>xkcd:red</td><td>xkcd:red</td><td>AX J1841.0-0536</td><td>--</td><td>--</td><td>--</td><td>--</td></tr>\n",
       "<tr><td>5883218164517055488</td><td>230.1701764075732</td><td>0.10015206784009933</td><td>-57.166742166539116</td><td>0.10098147392272949</td><td>-5.549152942694518</td><td>0.1326756626367569</td><td>-4.07252990135312</td><td>0.15664492547512054</td><td>-0.12459033866593971</td><td>0.13540777564048767</td><td>nan</td><td>nan</td><td>17.775951385498047</td><td>322.1184786573702</td><td>0.03771540102283994</td><td>20.04833984375</td><td>16.051708221435547</td><td>3.996631622314453</td><td>-8.02630453298044</td><td>-6.87243078740587</td><td>-0.38508862765140023</td><td>15.632237066741922</td><td>228.63983874857018</td><td>-75.0196328741579</td><td>0.45645717333091407</td><td>0.1997620559637505</td><td>-0.8866814163426192</td><td>0.0010663983854390217</td><td>-246.1033031151872</td><td>-6.442206544394165</td><td>-0.5859170820005897</td><td>8.723180746286538</td><td>B5-A0I</td><td>xkcd:black</td><td>xkcd:red</td><td>Cir X-1</td><td>--</td><td>--</td><td>--</td><td>--</td></tr>\n",
       "<tr><td>5940777877435137024</td><td>247.95125817288326</td><td>0.13132824003696442</td><td>-48.81687706740887</td><td>0.08851779997348785</td><td>-4.366133479593785</td><td>0.1887052059173584</td><td>-5.774239370792024</td><td>0.13030248880386353</td><td>-0.034896909170396145</td><td>0.1780019998550415</td><td>nan</td><td>nan</td><td>17.139793395996094</td><td>335.6159688973277</td><td>-0.44775360639278583</td><td>21.76079750061035</td><td>15.382353782653809</td><td>6.378443717956543</td><td>-28.655832959794708</td><td>-7.203060692802936</td><td>-0.7217191480289905</td><td>36.565529104483154</td><td>236.37118100537356</td><td>-21.797821868026933</td><td>0.1240213300320583</td><td>0.05619403983679294</td><td>-0.1370060719280757</td><td>-0.004010861183244892</td><td>-982.25918910737</td><td>-7.190075950906919</td><td>-0.7739023266825386</td><td>146.1675459407905</td><td>B0-5sgBe</td><td>xkcd:green</td><td>xkcd:green</td><td>IGR J16318-4848</td><td>--</td><td>--</td><td>--</td><td>--</td></tr>\n",
       "<tr><td>5940576971716473344</td><td>248.16638484576487</td><td>0.041116662323474884</td><td>-49.70382899144433</td><td>0.026625696569681168</td><td>-4.769279217690786</td><td>0.05356945842504501</td><td>-6.12018935660893</td><td>0.0370846651494503</td><td>-0.02732642251724471</td><td>0.05024125427007675</td><td>nan</td><td>nan</td><td>12.820149421691895</td><td>335.06347356705464</td><td>-1.1557122758724598</td><td>15.312694549560547</td><td>11.378886222839355</td><td>3.9338083267211914</td><td>-36.59461824426291</td><td>-7.732818041549645</td><td>-0.6373908952367946</td><td>44.4395009126313</td><td>238.18234623848957</td><td>-18.29882863703079</td><td>0.09734649797405275</td><td>0.04427760746415761</td><td>-0.11413054900965672</td><td>-0.008722533127419947</td><td>-1343.4921304227228</td><td>-7.716033990514041</td><td>-0.6729459695735323</td><td>67.28138375838091</td><td>OB</td><td>xkcd:black</td><td>xkcd:blue</td><td>IGR J16327-4940</td><td>--</td><td>--</td><td>--</td><td>--</td></tr>\n",
       "<tr><td>4070968778561141760</td><td>270.6747368583342</td><td>0.10467880219221115</td><td>-20.28816679699591</td><td>0.08847612142562866</td><td>-3.4065403956576787</td><td>0.12249838560819626</td><td>-5.488820512486482</td><td>0.09348345547914505</td><td>-0.020746656979534317</td><td>0.13062472641468048</td><td>nan</td><td>nan</td><td>16.801586151123047</td><td>9.420451483310611</td><td>1.0361026058400398</td><td>19.17436981201172</td><td>15.385049819946289</td><td>3.7893199920654297</td><td>-48.20053664484148</td><td>-6.454986779143893</td><td>0.2545854799816391</td><td>56.59512627800323</td><td>240.44728434142698</td><td>5.558569921182526</td><td>0.0509862845597433</td><td>0.032239819818962956</td><td>-0.012697277633559465</td><td>-0.002421929808169101</td><td>-1484.410782519727</td><td>-6.493275786070077</td><td>0.22476758997084526</td><td>303.4793469851124</td><td>B1Ib</td><td>xkcd:red</td><td>xkcd:red</td><td>IGR J18027-2016</td><td>1.5</td><td>0.4</td><td>20.0</td><td>3.0</td></tr>\n",
       "<tr><td>4512787627579740032</td><td>287.8284321301368</td><td>0.036209411919116974</td><td>15.5424152324057</td><td>0.03783654049038887</td><td>-2.3316551907380143</td><td>0.049541350454092026</td><td>-5.026141821941105</td><td>0.04540832340717316</td><td>-0.11893602365210737</td><td>0.04806249961256981</td><td>nan</td><td>nan</td><td>13.4966402053833</td><td>49.00379131724761</td><td>2.746286085927929</td><td>14.90600872039795</td><td>12.305709838867188</td><td>2.6002988815307617</td><td>-8.407881559291406</td><td>-5.533326546664774</td><td>-0.28463111343608866</td><td>15.376556424169422</td><td>228.4923447693939</td><td>93.60358262756867</td><td>0.01933064918475695</td><td>0.16962174574175873</td><td>-1.3971019542631897</td><td>-0.0892753080573711</td><td>-166.250366765301</td><td>-4.155555241586341</td><td>-0.3649775511204763</td><td>3.397656923254773</td><td>Be</td><td>xkcd:green</td><td>xkcd:green</td><td>UCAC4 528-094936</td><td>--</td><td>--</td><td>--</td><td>--</td></tr>\n",
       "<tr><td>5882543824607819776</td><td>236.02135471814512</td><td>0.23264913260936737</td><td>-56.76187017074616</td><td>0.21859543025493622</td><td>-4.167843287744988</td><td>0.3054322898387909</td><td>-2.6135336595940055</td><td>0.28812435269355774</td><td>-0.05039768082917262</td><td>0.30544930696487427</td><td>nan</td><td>nan</td><td>nan</td><td>324.9605894142377</td><td>-1.4644638526861036</td><td>nan</td><td>17.34893798828125</td><td>nan</td><td>-19.842182885152752</td><td>-4.894085386231645</td><td>0.499403737776991</td><td>27.23592679334108</td><td>233.66178514412294</td><td>-40.622176124027646</td><td>0.18432163729220988</td><td>0.08106106079678584</td><td>-0.3862202043510229</td><td>-0.02361099368163245</td><td>-443.26254699921276</td><td>-4.692186819172832</td><td>0.4419536706618376</td><td>120.2591252459364</td><td>Be?</td><td>xkcd:green</td><td>xkcd:red</td><td>XTE J1543-568</td><td>--</td><td>--</td><td>--</td><td>--</td></tr>\n",
       "<tr><td>4310118570535453696</td><td>284.75680882608543</td><td>0.2963730990886688</td><td>8.245457254312521</td><td>0.33733880519866943</td><td>-1.990330774755356</td><td>0.36828628182411194</td><td>-3.255504337241219</td><td>0.36267372965812683</td><td>-0.09095131417807156</td><td>0.3779982924461365</td><td>nan</td><td>nan</td><td>19.470138549804688</td><td>41.134383384326995</td><td>2.0764458051903394</td><td>20.9979305267334</td><td>18.006860733032227</td><td>2.991069793701172</td><td>-10.994893356264454</td><td>-3.8065332857455756</td><td>0.26463073752993077</td><td>18.26646413246279</td><td>230.0374044781114</td><td>68.95905779480354</td><td>0.060222815511654704</td><td>0.13385822120014465</td><td>-0.8398763575645535</td><td>-0.053796126660194</td><td>-158.0412354981633</td><td>-3.026879743692677</td><td>0.18456864298998013</td><td>45.69533658588257</td><td>B0-2Ve</td><td>xkcd:purple</td><td>xkcd:green</td><td>XTE J1859+083</td><td>--</td><td>--</td><td>12.5</td><td>--</td></tr>\n",
       "</table></div>"
      ],
      "text/plain": [
       "<Table length=8>\n",
       "     source_id              ra               ra_error       ...    Mo    Mo_err\n",
       "       int64             float64             float64        ... float64 float64\n",
       "------------------- ------------------ -------------------- ... ------- -------\n",
       "4256500538116700160   280.251804741005  0.03932623937726021 ...      --      --\n",
       "5883218164517055488  230.1701764075732  0.10015206784009933 ...      --      --\n",
       "5940777877435137024 247.95125817288326  0.13132824003696442 ...      --      --\n",
       "5940576971716473344 248.16638484576487 0.041116662323474884 ...      --      --\n",
       "4070968778561141760  270.6747368583342  0.10467880219221115 ...    20.0     3.0\n",
       "4512787627579740032  287.8284321301368 0.036209411919116974 ...      --      --\n",
       "5882543824607819776 236.02135471814512  0.23264913260936737 ...      --      --\n",
       "4310118570535453696 284.75680882608543   0.2963730990886688 ...    12.5      --"
      ]
     },
     "execution_count": 22,
     "metadata": {},
     "output_type": "execute_result"
    }
   ],
   "source": [
    "negative_parallax"
   ]
  },
  {
   "cell_type": "code",
   "execution_count": 23,
   "id": "db831c05-9a24-4b82-9eac-9b339f154b91",
   "metadata": {},
   "outputs": [
    {
     "data": {
      "text/html": [
       "&lt;Column name=&apos;source_id&apos; dtype=&apos;int64&apos; length=8&gt;\n",
       "<table>\n",
       "<tr><td>4256500538116700160</td></tr>\n",
       "<tr><td>5883218164517055488</td></tr>\n",
       "<tr><td>5940777877435137024</td></tr>\n",
       "<tr><td>5940576971716473344</td></tr>\n",
       "<tr><td>4070968778561141760</td></tr>\n",
       "<tr><td>4512787627579740032</td></tr>\n",
       "<tr><td>5882543824607819776</td></tr>\n",
       "<tr><td>4310118570535453696</td></tr>\n",
       "</table>"
      ],
      "text/plain": [
       "<Column name='source_id' dtype='int64' length=8>\n",
       "4256500538116700160\n",
       "5883218164517055488\n",
       "5940777877435137024\n",
       "5940576971716473344\n",
       "4070968778561141760\n",
       "4512787627579740032\n",
       "5882543824607819776\n",
       "4310118570535453696"
      ]
     },
     "execution_count": 23,
     "metadata": {},
     "output_type": "execute_result"
    }
   ],
   "source": [
    "negative_parallax_ID = negative_parallax['source_id']\n",
    "negative_parallax_ID"
   ]
  },
  {
   "cell_type": "code",
   "execution_count": 27,
   "id": "92157f61-e821-48ec-ab8c-99c331eb05d1",
   "metadata": {},
   "outputs": [],
   "source": [
    "str_negative_parallax = ','.join(map(str,test_table['source_id']))"
   ]
  },
  {
   "cell_type": "code",
   "execution_count": 28,
   "id": "2fce955b-ed92-493f-a40f-398e1c5bf9ed",
   "metadata": {},
   "outputs": [
    {
     "name": "stdout",
     "output_type": "stream",
     "text": [
      "3441207615229815040,5336957010898124160,5334851450481641088,6053076566300433920,5255509901121774976,1979911002134040960,2021785421455305344,2033989790047905024,5862285700835092352,524924310153249920,5854175187680510336,6054569565614460800,5863533199843070208,524677469790488960,168450545792009600,5613494119551805184,5334823859608495104,5886085557746480000,4268774695647764352,4309225217336733824,4306419980916246656,2034031438383765760,2005653524280214400,5966213219190201856,4256500538116700160,4258160560148155648,2026914849346539008,252878401557369088,5489434710755238400,5337498593446516480,2178178409188167296,5883218164517055488,2059383668236814720,2063791369815322752,5258414192353423360,2065653598916388352,5523448274762133632,4278536022438800640,6055103928246312960,5864664975280537728,5884544931471259136,5976382915813535232,4060784345959549184,1982359580155628160,3431561565357225088,184497471323752064,5620657678322625920,5337747731560719616,3131822364779745536,5837600152935767680,427234969757165952,519352324516039680,518990967445248256,3423526544838563328,5541793213959987968,5522306019626566528,5259009543533179648,5339047221168787712,5333660129603575808,5335021664274920576,6054778507172454912,5878377736381364608,5935509395659726592,5934776158877214848,5940777877435137024,5940576971716473344,5940285090075838848,5943166184173519744,5943246345430928512,5980409632300781056,4054559284753424000,4063908810076415872,4070770243676311936,4070968778561141760,4146789141900648576,4152643113595580416,4253473896214500096,4259088994635370752,4258428501693172736,4309253392325650176,4323316622779495680,1978365123143522176,2207277877757956352,2031939548802102656,5352018121173519488,4104196427943626624,5548261400354128768,465645515129855872,2935943990338336000,5311384333263075840,3052677318793446016,4155023796790984064,5862299960127967488,3131755947406031104,2067835682818358400,511220031584305536,2083644392294059520,4097365235226829312,2162805896614571904,2201091578667140352,5597252305589385984,5862928537183584768,2070085317968809216,4155000844481174656,4293406612283985024,4156747212545110400,465628193526364416,5933976985766949376,414196617287885312,4512787627579740032,444752973131169664,276644757710014976,5882543824607819776,4056922105185686784,4040960662373474176,4255891924062617088,4310118570535453696,4310649153642824320,2028089540103670144,426558460884582016,6060547335455660032\n"
     ]
    }
   ],
   "source": [
    "print(str_negative_parallax)"
   ]
  }
 ],
 "metadata": {
  "kernelspec": {
   "display_name": "Python 3 (ipykernel)",
   "language": "python",
   "name": "python3"
  },
  "language_info": {
   "codemirror_mode": {
    "name": "ipython",
    "version": 3
   },
   "file_extension": ".py",
   "mimetype": "text/x-python",
   "name": "python",
   "nbconvert_exporter": "python",
   "pygments_lexer": "ipython3",
   "version": "3.12.6"
  }
 },
 "nbformat": 4,
 "nbformat_minor": 5
}
