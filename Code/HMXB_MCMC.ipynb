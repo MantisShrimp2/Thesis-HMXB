{
 "cells": [
  {
   "cell_type": "code",
   "execution_count": 8,
   "id": "65f9b606-e52a-4298-a1f2-e70d3d856006",
   "metadata": {},
   "outputs": [],
   "source": [
    "import numpy as np\n",
    "import pandas as pd\n",
    "from astroquery.gaia import Gaia\n",
    "from astropy.io import ascii\n",
    "import emcee\n",
    "import gala.potential as gp\n",
    "import gala.dynamics as gd\n",
    "import gala.integrate as gi\n",
    "from gala.coordinates import reflex_correct\n",
    "import astropy.coordinates as coord\n",
    "import os"
   ]
  },
  {
   "cell_type": "code",
   "execution_count": 2,
   "id": "3bae2d88-0ce0-46fc-9267-6602fbb15f8f",
   "metadata": {},
   "outputs": [],
   "source": [
    "#define potantial \n",
    "potential = gp.MilkyWayPotential2022()\n",
    "orbit_integrator = gi.LeapfrogIntegrator"
   ]
  },
  {
   "cell_type": "code",
   "execution_count": 3,
   "id": "649b5dc8-8b2a-48dd-8155-e50cba71acd5",
   "metadata": {},
   "outputs": [],
   "source": [
    "#define constants\n",
    "total_time = 5e6 #5 Myr\n",
    "dt = -1.0\n",
    "\n",
    "n_steps = int(total_time / abs(dt))\n"
   ]
  },
  {
   "cell_type": "code",
   "execution_count": 85,
   "id": "f5598fb4-2d29-432b-b71e-40826764387b",
   "metadata": {},
   "outputs": [],
   "source": [
    "import numpy as np\n",
    "\n",
    "def make_theta(star_params, cluster_params):\n",
    "    # Convert each astropy Table column to a numpy array and take the first element.\n",
    "    star_l   = np.array(star_params['l'])[0]\n",
    "    star_b   = np.array(star_params['b'])[0]\n",
    "    star_d   = np.array(star_params['distance_bj'])[0]\n",
    "    star_pml = np.array(star_params['pm_l_poleski'])[0]\n",
    "    star_pmb = np.array(star_params['pm_b_poleski'])[0]\n",
    "    star_rv  = np.array(star_params[\"RV\"])[0]\n",
    "    \n",
    "    cluster_l   = np.array(cluster_params['l'])[0]\n",
    "    cluster_b   = np.array(cluster_params['b'])[0]\n",
    "    cluster_d   = np.array(cluster_params['distance_bj'])[0]\n",
    "    cluster_pml = np.array(cluster_params['pm_l_poleski'])[0]\n",
    "    cluster_pmb = np.array(cluster_params['pm_b_poleski'])[0]\n",
    "    cluster_rv  = np.array(cluster_params['RV'])[0]\n",
    "    \n",
    "    theta = [star_l, star_b, star_d, star_pml, star_pmb, star_rv,\n",
    "             cluster_l, cluster_b, cluster_pml, cluster_pmb, cluster_rv]\n",
    "    return theta\n",
    "\n",
    "def make_star_stds(star_table):\n",
    "    # Compute distance error and convert each astropy Table column to a numpy array, then take the first element.\n",
    "    dist_err = np.array(star_table['distance_bj_high'])[0] - np.array(star_table['distance_bj'])[0]\n",
    "    std_l   = np.array(star_table['l_err'])[0]\n",
    "    std_b   = np.array(star_table['b_err'])[0]\n",
    "    std_d   = dist_err\n",
    "    std_pml = np.array(star_table['pm_l_err'])[0]\n",
    "    std_pmb = np.array(star_table['pm_b_err'])[0]\n",
    "    std_rv  = np.array(star_table['RV_err'])[0]\n",
    "\n",
    "    star_stds = [std_l, std_b, std_d, std_pml, std_pmb, std_rv]\n",
    "    return star_stds\n",
    "   \n",
    "def calc_cluster_radius(cluster_distance,angular_diameter):\n",
    "    \n",
    "    rad_diameter = angular_diameter* (np.pi/ (60*180)) # diamter of cluster in radians\n",
    "    return cluster_distance*np.tan(rad_diameter/2)\n",
    "    \n",
    "def make_log_gauss(x,mu,sigma):\n",
    "    return -0.5 * ((x - mu)/sigma)**2"
   ]
  },
  {
   "cell_type": "code",
   "execution_count": null,
   "id": "ccbb0328-d096-4476-b6db-15dac30d01a6",
   "metadata": {},
   "outputs": [],
   "source": []
  },
  {
   "cell_type": "code",
   "execution_count": 42,
   "id": "e556b08a-6086-4d00-a162-985657ef06c8",
   "metadata": {},
   "outputs": [],
   "source": [
    "def log_likelihood(theta, cluster_radius):\n",
    "    '''theta  =['l','b','dist','pml','pmb','rv', 'cl_l', 'cl_b', 'cl_d', 'cl_pml', 'cl_pmb','cl_rv']\n",
    "    log likelihood is the time seperation of the star and cluster after orbit integration\n",
    "    \n",
    "    calculate the orbit of the star and cluster in galactocentric\n",
    "    \n",
    "    '''\n",
    "    star_l, star_b,star_d = theta[:3]\n",
    "    star_pml, star_pmb, star_rv = theta[3:6]\n",
    "\n",
    "    cluster_l, cluster_b, cluster_d = theta[6:9]\n",
    "    cluster_pml, cluster_pmb, cluster_rv = theta[9:12]\n",
    "\n",
    "    with coord.galactocentric_frame_defaults.set('v4.0'):\n",
    "        galcen_frame = coord.Galactocentric()\n",
    "    star_galactic_rep = coord.SkyCoord(l=star_l, b= star_b, pm_l_cosb= star_pml, pm_b = star_pmb, distance=star_d,\n",
    "                                       radial_velocity = star_rv, frame='galactic')\n",
    "    #convert to galactocentic\n",
    "    star_galacto_rep = star_galactic_rep.transform_to(galcen_frame)\n",
    "    star_galactic_rep = reflex_correct(star_galactic_rep) #correct for solar motion\n",
    "\n",
    "    #same for the cluster\n",
    "    cluster_galactic_rep = coord.SkyCoord(l=cluster_l, b= cluster_b, pm_l_cosb= cluster_pml, pm_b = cluster_pmb, distance=cluster_d,\n",
    "                                       radial_velocity = cluster_rv, frame='galactic')\n",
    "    cluster_galacto_rep =  cluster_galactic_rep.transform_to(galcen_frame)\n",
    "    cluster_galactic_rep = reflex_correct(cluster_galacto_rep)\n",
    "    #now integrate\n",
    "    star_pos = gd.PhaseSpacePosition(star_galacto_rep.data)\n",
    "    cluster_pos = gd.PhaseSpacePosition(cluster_galacto_rep.data)\n",
    "\n",
    "    orbit_params = {\"dt\": dt, \"n_steps\": n_steps, \"Integrator\": orbit_integrator}\n",
    "    star_orbit = potential.integrate_orbit(star_pos, **orbit_params)\n",
    "    cluster_orbit = potential.integrate_orbit(cluster_pos, **orbit_params)\n",
    "\n",
    "    time = star_orbit.t\n",
    "\n",
    "    seperation = np.linalg.norm(star_orbit.xyz.to(u.pc) - cluster_orbit.xyz.to(u.pc), axis=0)\n",
    "    min_sep = seperation[np.argmin(seperation)]\n",
    "\n",
    "    if min_sep > cluster_radius:\n",
    "        return -np.inf\n",
    "\n",
    "    #to maximize liklehood\n",
    "    return -time[min_sep]\n",
    "    \n",
    "def log__uniform_prior(theta):\n",
    "    '''For now uniform prior'''\n",
    "    star_pos = theta[:3]\n",
    "    star_vel = theta[3:6]\n",
    "\n",
    "    cluster_pos = theta[6:9]\n",
    "    cluster_vel = theta[9:12]\n",
    "    if (np.all(star_vel > 0) and np.all(cluster_vel > 0)):\n",
    "        return 0.0  # Uniform prior\n",
    "    return -np.inf\n",
    "\n",
    "def log_normal_prior(theta,star_params,star_stds):\n",
    "    '''Assume each parameter of the star comes from a normal distriubtion'''\n",
    "    #these are sampled from walker\n",
    "    star_l, star_b, star_d = theta[:3]\n",
    "    star_pml, star_pmb, star_rv = theta[3:6]\n",
    "\n",
    "    #true value of stars\n",
    "    true_l, true_b, true_d= star_params['l'], star_params['b'], star_params['d']\n",
    "    true_pml, true_pmb, true_rv = star_params['pm_l_poleski'], star_params['pm_b_poleski'], star_params[\"RV\"]\n",
    "\n",
    "    #true standard deviations \n",
    "    dist_err = star_params['distance_bj_high'] - star_params['distance_bj']\n",
    "    std_l, std_b, std_d = star_stds['l_err'], star_stds['b_err'], dist_err\n",
    "    std_pml, std_pmb, std_rv = stars_stds['pm_l_err'], stars_stds['pm_b_err'], stars_stds['RV_err']\n",
    "\n",
    "    if star_d < 0.0 or np.sqrt(star_pml + star_pmb) >100: \n",
    "        return -np.inf\n",
    "    log_l = make_log_gauss(star_l,true_l,std_l)\n",
    "    log_b = make_log_gauss(star_b,true_b,std_b)\n",
    "    log_d = make_log_gauss(star_d, true_d, std_d)\n",
    "    \n",
    "    log_pml = make_log_gauss(star_pml,true_pml, std_pml)\n",
    "    log_pmb = make_log_gauss(star_pmb, true_pmb, std_pmb)\n",
    "    log_rv = make_log_gauss(star_rv, true_rv, std_rv)\n",
    "    return log_l + log_b + log_d, + log_pml + log_pmb + log_pmrv\n",
    "    "
   ]
  },
  {
   "cell_type": "code",
   "execution_count": 43,
   "id": "e67b9307-fb5f-404b-b98a-e2c6d4a8eaad",
   "metadata": {},
   "outputs": [],
   "source": [
    "def log_probability(theta,star_params, star_stds,cluster_radius):\n",
    "    lp = log_normal_prior(tetha,star_params, star_stds)\n",
    "    if not np.isfinite(lp):\n",
    "        return -np.inf\n",
    "    return lp + log_likelihood(theta,cluster_radius)\n",
    "    "
   ]
  },
  {
   "cell_type": "markdown",
   "id": "8024bdfd-90ca-45a5-9007-241412101ead",
   "metadata": {},
   "source": [
    "# Load Data"
   ]
  },
  {
   "cell_type": "code",
   "execution_count": 38,
   "id": "790486e9-2c52-4e57-a74e-937bb4fe0278",
   "metadata": {},
   "outputs": [],
   "source": [
    "cwd = os.getcwd()\n",
    "home_files = os.path.dirname(cwd)\n",
    "home_files = home_files + '/'\n",
    "csv_files  = home_files + 'DATA/'\n",
    "csv_files\n",
    "\n",
    "HMXB_table = ascii.read(csv_files+'HMXB_20250310_.ecsv',format='ecsv')"
   ]
  },
  {
   "cell_type": "markdown",
   "id": "a44f55bc-f99a-45e7-b8e2-9ecbbfe2fe45",
   "metadata": {},
   "source": [
    "# 1700-37 with NGC 6231"
   ]
  },
  {
   "cell_type": "code",
   "execution_count": 39,
   "id": "d57d9644-2723-409c-aa06-c0833f64d996",
   "metadata": {},
   "outputs": [
    {
     "data": {
      "text/html": [
       "<div><i>Table length=1</i>\n",
       "<table id=\"table128354679869984\" class=\"table-striped table-bordered table-condensed\">\n",
       "<thead><tr><th>source_id</th><th>ra</th><th>ra_error</th><th>dec</th><th>dec_error</th><th>pmra</th><th>pmra_error</th><th>pmdec</th><th>pmdec_error</th><th>parallax</th><th>parallax_error</th><th>radial_velocity</th><th>radial_velocity_error</th><th>phot_g_mean_mag</th><th>l</th><th>b</th><th>ruwe</th><th>distance_bj</th><th>distance_bj_low</th><th>distance_bj_high</th><th>Name</th><th>Mx</th><th>Mx_err</th><th>Mo</th><th>Mo_err</th><th>RV</th><th>RV_err</th><th>Period</th><th>Period_err</th><th>Spin_period</th><th>Spin_period_err</th><th>distance_para</th><th>pm_l_poleski</th><th>pm_b_poleski</th><th>galactic distance</th><th>circular velocity</th><th>LSR velocity</th><th>mu_l_sol</th><th>mu_b_sol</th><th>RV_r_sol</th><th>mu_l_rot</th><th>mu_b_rot</th><th>RV_rot</th><th>Peculiar Velocity</th><th>Peculiar Radial Velocity</th><th>peculiar_mu_l</th><th>peculiar_mu_b</th><th>Peculiar Velocity 3D</th><th>dist_err</th><th>SpType</th><th>Mod_SpType</th><th>SpColor</th><th>pm_l_err</th><th>pm_b_err</th><th>l_err</th><th>b_err</th></tr></thead>\n",
       "<thead><tr><th></th><th>deg</th><th>mas</th><th>deg</th><th>mas</th><th>mas / yr</th><th>mas / yr</th><th>mas / yr</th><th>mas / yr</th><th>mas</th><th>mas</th><th>km / s</th><th>km / s</th><th>mag</th><th>deg</th><th>deg</th><th></th><th>kpc</th><th>kpc</th><th>kpc</th><th></th><th></th><th></th><th></th><th></th><th>km / s</th><th>km / s</th><th></th><th></th><th></th><th></th><th>kpc</th><th>mas / yr</th><th>mas / yr</th><th>kpc</th><th>km / s</th><th>km / s</th><th>mas / yr</th><th>mas / yr</th><th>km / s</th><th>mas / yr</th><th>mas / yr</th><th>km / s</th><th>km / s</th><th>km / s</th><th>mas / yr</th><th>mas / yr</th><th>km / s</th><th>kpc</th><th></th><th></th><th></th><th></th><th></th><th></th><th></th></tr></thead>\n",
       "<thead><tr><th>int64</th><th>float64</th><th>float32</th><th>float64</th><th>float32</th><th>float64</th><th>float32</th><th>float64</th><th>float32</th><th>float64</th><th>float32</th><th>float32</th><th>float32</th><th>float32</th><th>float64</th><th>float64</th><th>float32</th><th>float64</th><th>float64</th><th>float64</th><th>str23</th><th>float64</th><th>float64</th><th>float64</th><th>float64</th><th>float64</th><th>float64</th><th>float64</th><th>float64</th><th>float64</th><th>float64</th><th>float64</th><th>float64</th><th>float64</th><th>float64</th><th>float64</th><th>float64</th><th>float64</th><th>float64</th><th>float64</th><th>float64</th><th>float64</th><th>float64</th><th>float64</th><th>float64</th><th>float64</th><th>float64</th><th>float64</th><th>float64</th><th>str21</th><th>str17</th><th>str10</th><th>float64</th><th>float64</th><th>float64</th><th>float64</th></tr></thead>\n",
       "<tr><td>5976382915813535232</td><td>255.9865659301791</td><td>0.021049444</td><td>-37.8441202722809</td><td>0.012138224</td><td>2.4137032635492046</td><td>0.02806476</td><td>5.021949969731823</td><td>0.021347089</td><td>0.6327358617075665</td><td>0.025948899</td><td>--</td><td>--</td><td>6.4204698</td><td>347.75444710988126</td><td>2.173492429913019</td><td>0.8081919</td><td>1.5139931999999998</td><td>1.4613417</td><td>1.5923752</td><td>4U 1700-377</td><td>1.96</td><td>0.19</td><td>46.0</td><td>5.0</td><td>-60.0</td><td>10.0</td><td>3.41166</td><td>4e-06</td><td>--</td><td>--</td><td>1.5804383163952436</td><td>5.459355496184255</td><td>1.114173464609666</td><td>6.679230942389423</td><td>237.63301645326374</td><td>-61.001772677836</td><td>-2.171203317603579</td><td>-1.0177427454204167</td><td>-7.952405001432037</td><td>-0.3724851740513693</td><td>0.05825101462333499</td><td>-9.02673557992658</td><td>59.32909375406844</td><td>-43.02085941864138</td><td>8.003043987839204</td><td>2.0736651954067478</td><td>73.2853035116697</td><td>0.06481477741223182</td><td>O6Iafcp</td><td>xkcd:blue</td><td>xkcd:blue</td><td>0.0240715261860172</td><td>0.012151228689122667</td><td>0.015476749868062746</td><td>0.006993492825535058</td></tr>\n",
       "</table></div>"
      ],
      "text/plain": [
       "<Table length=1>\n",
       "     source_id              ra        ...        b_err        \n",
       "                           deg        ...                     \n",
       "       int64             float64      ...       float64       \n",
       "------------------- ----------------- ... --------------------\n",
       "5976382915813535232 255.9865659301791 ... 0.006993492825535058"
      ]
     },
     "execution_count": 39,
     "metadata": {},
     "output_type": "execute_result"
    }
   ],
   "source": [
    "star_170037 = HMXB_table[HMXB_table['Name'] == '4U 1700-377']\n",
    "star_170037"
   ]
  },
  {
   "cell_type": "code",
   "execution_count": 40,
   "id": "52095964-a06e-43de-bf1a-b5a1e546f6ce",
   "metadata": {},
   "outputs": [
    {
     "data": {
      "text/plain": [
       "np.float64(27.075213015005065)"
      ]
     },
     "execution_count": 40,
     "metadata": {},
     "output_type": "execute_result"
    }
   ],
   "source": [
    "ngc6231 = ascii.read(csv_files+'NGC2631_param.ecsv',format='ecsv')\n",
    "ngc6231_radius = calc_cluster_radius(ngc6231['distance_bj'],120)\n",
    "ngc6231_radius[0]*1000\n"
   ]
  },
  {
   "cell_type": "code",
   "execution_count": 86,
   "id": "71256aee-84b8-4f40-903d-2c077dbcd69c",
   "metadata": {},
   "outputs": [],
   "source": [
    "star_170037_theta = make_theta(star_170037, ngc6231)\n",
    "star_170037_stds = make_star_stds(star_170037)"
   ]
  },
  {
   "cell_type": "code",
   "execution_count": 87,
   "id": "b7c91b76-5df2-49a4-a0d2-6c56f85810b2",
   "metadata": {},
   "outputs": [
    {
     "data": {
      "text/plain": [
       "[np.float64(347.75444710988126),\n",
       " np.float64(2.173492429913019),\n",
       " np.float64(1.5139931999999998),\n",
       " np.float64(5.459355496184255),\n",
       " np.float64(1.114173464609666),\n",
       " np.float64(-60.0),\n",
       " np.float64(343.4762),\n",
       " np.float64(1.17),\n",
       " np.float64(-2.05709),\n",
       " np.float64(-0.929142),\n",
       " np.float64(-28.16)]"
      ]
     },
     "execution_count": 87,
     "metadata": {},
     "output_type": "execute_result"
    }
   ],
   "source": [
    "star_170037_theta"
   ]
  },
  {
   "cell_type": "code",
   "execution_count": 88,
   "id": "5c63fd0a-b347-4015-93a8-2d1276a0c859",
   "metadata": {},
   "outputs": [],
   "source": [
    "ndim = 12  # 3 position + 3 velocity for HMXB & Cluster\n",
    "nwalkers = 24\n",
    "#lbd pml pmb, vrad for star\n",
    "#repat for cluster\n",
    "\n",
    "#gagin for cluster\n",
    "mean_vals = np.array([np.array(col) for col in star_170037_theta[0:3]])\n",
    "std_vals = np.array([np.array(col) for col in star_170037_stds[0:3]])\n",
    "\n",
    "mean_star_vals = mean_vals.flatten()\n",
    "std_vals = std_vals.flatten()\n",
    "\n",
    "initial_pos = np.hstack([\n",
    "    np.random.normal(mean_vals, std_vals, size=(nwalkers, 3)),\n",
    "])\n",
    "initial_pos = np.random.normal(mean_vals, std_vals, size=(nwalkers, 3))\n"
   ]
  },
  {
   "cell_type": "code",
   "execution_count": 89,
   "id": "d8348dbd-0b79-4055-85f1-eb2500763c29",
   "metadata": {},
   "outputs": [
    {
     "ename": "NameError",
     "evalue": "name 'hmxb_mean_pos' is not defined",
     "output_type": "error",
     "traceback": [
      "\u001b[0;31m---------------------------------------------------------------------------\u001b[0m",
      "\u001b[0;31mNameError\u001b[0m                                 Traceback (most recent call last)",
      "Cell \u001b[0;32mIn[89], line 1\u001b[0m\n\u001b[0;32m----> 1\u001b[0m initial_hmxb_pos \u001b[38;5;241m=\u001b[39m np\u001b[38;5;241m.\u001b[39mrandom\u001b[38;5;241m.\u001b[39mnormal(\u001b[43mhmxb_mean_pos\u001b[49m, hmxb_std_pos, (nwalkers, \u001b[38;5;241m3\u001b[39m))\n\u001b[1;32m      2\u001b[0m initial_hmxb_vel \u001b[38;5;241m=\u001b[39m np\u001b[38;5;241m.\u001b[39mrandom\u001b[38;5;241m.\u001b[39mnormal(hmxb_mean_vel, hmxb_std_vel, (nwalkers, \u001b[38;5;241m3\u001b[39m))\n\u001b[1;32m      3\u001b[0m initial_cluster_pos \u001b[38;5;241m=\u001b[39m np\u001b[38;5;241m.\u001b[39mrandom\u001b[38;5;241m.\u001b[39mnormal(cluster_mean_pos, cluster_std_pos, (nwalkers, \u001b[38;5;241m3\u001b[39m))\n",
      "\u001b[0;31mNameError\u001b[0m: name 'hmxb_mean_pos' is not defined"
     ]
    }
   ],
   "source": [
    "# initial_hmxb_pos = np.random.normal(hmxb_mean_pos, hmxb_std_pos, (nwalkers, 3))\n",
    "# initial_hmxb_vel = np.random.normal(hmxb_mean_vel, hmxb_std_vel, (nwalkers, 3))\n",
    "# initial_cluster_pos = np.random.normal(cluster_mean_pos, cluster_std_pos, (nwalkers, 3))\n",
    "# initial_cluster_vel = np.random.normal(cluster_mean_vel, cluster_std_vel, (nwalkers, 3))\n",
    "\n",
    "# # Combine these into a single (nwalkers x ndim) array\n",
    "# initial_pos = np.hstack([\n",
    "#     initial_hmxb_pos, \n",
    "#     initial_hmxb_vel, \n",
    "#     initial_cluster_pos, \n",
    "#     initial_cluster_vel\n",
    "# ])"
   ]
  },
  {
   "cell_type": "code",
   "execution_count": null,
   "id": "50b7fc48-7a8b-45d7-a54a-c4e13b77cb1e",
   "metadata": {},
   "outputs": [],
   "source": [
    "sampler = emcee.EnsembleSampler(nwalkers, ndim, log_probability, args=(cluster_radius,))\n",
    "state = sampler.run_mcmc(initial_pos, 1000, progress=True)\n",
    "\n",
    "# Extract results\n",
    "samples = sampler.get_chain(discard=500, thin=10, flat=True)\n",
    "kinematic_ages = -samples[:, 0]  # Convert back from negative log-likelihood\n",
    "\n",
    "kinematic_age_median = np.median(kinematic_ages)\n",
    "kinematic_age_std = np.std(kinematic_ages)\n"
   ]
  }
 ],
 "metadata": {
  "kernelspec": {
   "display_name": "Python 3 (ipykernel)",
   "language": "python",
   "name": "python3"
  },
  "language_info": {
   "codemirror_mode": {
    "name": "ipython",
    "version": 3
   },
   "file_extension": ".py",
   "mimetype": "text/x-python",
   "name": "python",
   "nbconvert_exporter": "python",
   "pygments_lexer": "ipython3",
   "version": "3.12.6"
  }
 },
 "nbformat": 4,
 "nbformat_minor": 5
}
