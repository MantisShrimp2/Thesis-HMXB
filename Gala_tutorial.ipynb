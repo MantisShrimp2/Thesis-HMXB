{
 "cells": [
  {
   "cell_type": "code",
   "execution_count": 2,
   "id": "bbbcdad5-ca49-4452-95c8-f769c05590ad",
   "metadata": {},
   "outputs": [],
   "source": [
    "import astropy.units as u\n",
    "import numpy as np\n",
    "import gala.potential as gp"
   ]
  },
  {
   "cell_type": "code",
   "execution_count": 3,
   "id": "548081a9-e367-4292-aa48-ac4a95329362",
   "metadata": {},
   "outputs": [],
   "source": [
    "mw = gp.MilkyWayPotential()"
   ]
  },
  {
   "cell_type": "code",
   "execution_count": 4,
   "id": "15751500-3b81-4c81-ba3c-472dc7fe44fb",
   "metadata": {},
   "outputs": [
    {
     "data": {
      "text/plain": [
       "<CompositePotential disk,bulge,nucleus,halo>"
      ]
     },
     "execution_count": 4,
     "metadata": {},
     "output_type": "execute_result"
    }
   ],
   "source": [
    "mw"
   ]
  }
 ],
 "metadata": {
  "kernelspec": {
   "display_name": "Python 3 (ipykernel)",
   "language": "python",
   "name": "python3"
  },
  "language_info": {
   "codemirror_mode": {
    "name": "ipython",
    "version": 3
   },
   "file_extension": ".py",
   "mimetype": "text/x-python",
   "name": "python",
   "nbconvert_exporter": "python",
   "pygments_lexer": "ipython3",
   "version": "3.12.6"
  }
 },
 "nbformat": 4,
 "nbformat_minor": 5
}
