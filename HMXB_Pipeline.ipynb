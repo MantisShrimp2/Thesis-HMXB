{
 "cells": [
  {
   "cell_type": "markdown",
   "id": "7a7f92ec-7300-4822-901c-65d12ff232c8",
   "metadata": {},
   "source": [
    "#  Using the Formulas and Data I have now i can create a pipeline that inputs a simple table of distances and outputs all the Velocities I need "
   ]
  },
  {
   "cell_type": "code",
   "execution_count": 2,
   "id": "8bc8313e-1675-40ca-a9f3-c055a2b448b9",
   "metadata": {},
   "outputs": [],
   "source": [
    "#import modules\n",
    "import numpy as np\n",
    "import pandas as pd\n",
    "from astroquery.gaia import Gaia\n",
    "import matplotlib.pyplot as plt\n",
    "from astropy.table import Column, Table\n",
    "from astropy.io import ascii\n",
    "\n",
    "import astropy.coordinates as coords\n",
    "import astropy.units as u\n",
    "from astropy.coordinates import SkyCoord\n",
    "from astropy.visualization import astropy_mpl_style\n",
    "import os"
   ]
  },
  {
   "cell_type": "code",
   "execution_count": 4,
   "id": "203cc892-ad0b-408d-9887-acd56006d1ed",
   "metadata": {},
   "outputs": [
    {
     "data": {
      "text/plain": [
       "'/home/karan/Documents/UvA/Thesis'"
      ]
     },
     "execution_count": 4,
     "metadata": {},
     "output_type": "execute_result"
    }
   ],
   "source": [
    "\n",
    "cwd = os.getcwd()\n",
    "cwd"
   ]
  },
  {
   "cell_type": "code",
   "execution_count": 2,
   "id": "24374a63-2e95-41cc-a176-cafb61d19678",
   "metadata": {},
   "outputs": [],
   "source": [
    "#import constants\n",
    "RUWE= 1.4 #Mitch\n",
    "R0 = 8.5 # kpc distance to the sun from galactic center\n",
    "sun_curve = 220 #km/s fich 1988, brand 1993\n",
    "### find these values\n",
    "#Johnson 1986\n",
    "ra_np = np.radians(192.25) # deg to radians right acsension of north pole\n",
    "dec_np = np.radians(27.4) # deg to radians decliatoin of north pole\n",
    "theta_o = np.radians(123) # deg to radiansradians\n",
    "k  = 4.74 #km/s per mas/yr \n",
    "\n",
    "#solar values\n",
    "# solar motion km/s \n",
    "# M. Carretero-Castrillo 2023 and Ried 2019\n",
    "U_sun = 10.8\n",
    "V_sun = 13.6\n",
    "W_sun = 7.6"
   ]
  },
  {
   "cell_type": "code",
   "execution_count": 3,
   "id": "a9e294a4-fc7d-4c05-bcf9-6c1dd122e5d3",
   "metadata": {},
   "outputs": [],
   "source": [
    "def make_query(list_ID, query):\n",
    "    '''Make a query for gaia DR3 using a list of GAIA identifers\n",
    "    input:\n",
    "    list_ID  - list: gaia source IDs, make sure IDs are clean\n",
    "    query - str: SQL query to use in GAIA\n",
    "    return;\n",
    "    Results- Astropy Table- query results from GAIA \n",
    "    \n",
    "    '''\n",
    "    #convert list to string map\n",
    "    str_map = ','.join(map(str,list_ID))\n",
    "    job = Gaia.launch_job(query)\n",
    "    results =job.get_results()\n",
    "    return results"
   ]
  },
  {
   "cell_type": "code",
   "execution_count": 4,
   "id": "4c96f042-222b-492a-aeef-18179271e8c6",
   "metadata": {},
   "outputs": [],
   "source": [
    "def modify_parllax_add_distance(table):\n",
    "    #offset Parallax\n",
    "    p_offset = 0.0 # from GAIA EDR3\n",
    "    table['parallax'] = table['parallax'] - p_offset # from GAIA EDR3\n",
    "    #add parallax units\n",
    "    table['parallax'].unit= u.mas\n",
    "    #add the distance to the table\n",
    "    distance = 1/table['parallax'] # kpc\n",
    "\n",
    "    table.add_column(distance, name='distance') # distance from object to sun in kpc\n",
    "    table['distance'].unit= u.kpc\n",
    "    return table\n"
   ]
  },
  {
   "cell_type": "code",
   "execution_count": 5,
   "id": "530c0caa-e78e-4708-ba7d-66f27fdd72e6",
   "metadata": {},
   "outputs": [],
   "source": [
    "def Galaxy_dist(table):\n",
    "    '''find the distance an object is to the center of the galaxy based on law of cosine\n",
    "    input:\n",
    "    long (l)- galactic longitutde in degree\n",
    "    lat(b)- galactic latitute in degrees \n",
    "    object_dist (d) - distance from the sun to the object in kpc\n",
    "    return \n",
    "    R - distance from the object to the galactic centre in kpc\n",
    "    '''\n",
    "    long = table['l']\n",
    "    lat = table['b']\n",
    "    long_rad = np.radians(long) #convert to radians\n",
    "    lat_rad = np.radians(lat)\n",
    "    obj_dist = table['distance'] # kpc\n",
    "    R_sqrd = R0**2 + (obj_dist**2 * np.cos(lat_rad)**2) - 2*R0*obj_dist*np.cos(long_rad)*np.cos(lat_rad)\n",
    "    galactic_dist = np.sqrt(R_sqrd)\n",
    "    table.add_column(galactic_dist, name = 'galactic distance')\n",
    "    table['galactic distance'].unit = u.kpc\n",
    "    return table"
   ]
  },
  {
   "cell_type": "code",
   "execution_count": 6,
   "id": "b8a10e93-ac54-4406-bb7d-8021c5187f4b",
   "metadata": {},
   "outputs": [],
   "source": [
    "def rotation_curve(table):\n",
    "    '''From brand 1993 and fich 1988\n",
    "    Calculate the circular velocity of a star based on its galactocentric distance\n",
    "    return in km/s'''\n",
    "    #best fit constants for rotational curve  fit\n",
    "    a1 = 1.00767\n",
    "    a2 = 0.0394\n",
    "    a3 = 0.00712\n",
    "    # fit from Brand 1988\n",
    "    gal_dist = table['galactic distance']\n",
    "    theta  = a1*((gal_dist/R0)**a2) + a3\n",
    "    theta = sun_curve*theta #km/s\n",
    "    table.add_column(theta, name='circular velocity')\n",
    "    table['circular velocity'].unit= u.km/u.s\n",
    "    return table\n"
   ]
  },
  {
   "cell_type": "code",
   "execution_count": 7,
   "id": "8c514136-a9ad-47f2-b34d-afcc4aceaf09",
   "metadata": {},
   "outputs": [],
   "source": [
    "def vlsr_model(table):\n",
    "    '''Calculate the Velocity as Local Standard of Rest based on \n",
    "    1) Galactocentric distance\n",
    "    2) Circular Velocity due to galactic rotation (see rotation_curve function)\n",
    "    3) Galactic Latitude and Longitude\n",
    "    \n",
    "    Compare with a model from Brand 1993 which reduces solar motion\n",
    "    input:\n",
    "    table- astropy table\n",
    "    plot- boolean'''\n",
    "    long = table['l']\n",
    "    lat = table['b']\n",
    "    gal_dist = table['galactic distance']\n",
    "    theta = table['circular velocity']\n",
    "    \n",
    "    long_rad = np.radians(long)\n",
    "    lat_rad = np.radians(lat)\n",
    "    V_lsr = (theta * (R0/gal_dist) - theta_o)*np.sin(long_rad)*np.cos(lat_rad)\n",
    "    table.add_column(V_lsr, name='LSR velocity')\n",
    "    table['LSR velocity'].unit= u.km/u.s\n",
    "    return table"
   ]
  },
  {
   "cell_type": "code",
   "execution_count": 8,
   "id": "4b3e386f-22a5-46a4-8f85-933aa6862606",
   "metadata": {},
   "outputs": [],
   "source": [
    "def make_sky(table):\n",
    "    '''Create a galactic coordinate table from astropy table proper motion, ra,dec and distance to object'''\n",
    "    ra = table['ra'] # deg\n",
    "    dec= table['dec']#deg\n",
    "    pmra= table['pmra'] #mas/yr\n",
    "    pmdec = table['pmdec']\n",
    "    distance = table['distance'] #kpc\n",
    "    sky = SkyCoord(ra = ra* u.deg, dec =dec *u.deg, pm_ra_cosdec= pmra*u.mas/u.yr, pm_dec=pmdec*u.mas/u.yr, distance=distance*u.kpc, frame='icrs')\n",
    "    galactic= sky.transform_to('galactic')\n",
    "    pm_l = galactic.pm_l_cosb\n",
    "    pm_b = galactic.pm_b\n",
    "    table.add_column(pm_l, name='pm_l')\n",
    "    table.add_column(pm_b, name='pm_b')\n",
    "    return table"
   ]
  },
  {
   "cell_type": "code",
   "execution_count": 9,
   "id": "2fc13bd5-ca44-4e72-9157-513b6a8a465f",
   "metadata": {},
   "outputs": [],
   "source": [
    "def transform_space_velocity(ra, dec):\n",
    "    '''Johnson 1986 calculate space velocities\n",
    "    Use a transformation Matrix to convert ra and dec corrdinates into space velocity components\n",
    "                                                UVW\n",
    "\n",
    "    Notes:\n",
    "    Transform is correct for Johnson 1986 constants\n",
    "    input:\n",
    "    ra- right ascension of star in radians\n",
    "    dec - declinatoin of star in radians\n",
    "\n",
    "    Transform - see johnson 1986\n",
    "    A- coordinate matrix\n",
    "    Return the dot product of Transform and A\n",
    "\n",
    "    \n",
    "    '''\n",
    "    \n",
    "    T1= np.array([[np.cos(theta_o), np.sin(theta_o), 0.0],\n",
    "                        [np.sin(theta_o), -np.cos(theta_o), 0.0],\n",
    "                        [0.0,0.0,1.0]])\n",
    "    T2 =  np.array([[-np.sin(dec_np), 0.0, np.cos(dec_np)],\n",
    "                        [0.0,-1.0,0.0],\n",
    "                        [np.cos(dec_np), 0.0, np.sin(dec_np)]])\n",
    "    T3 = np.array([[np.cos(ra_np), np.sin(ra_np), 0.0],\n",
    "                        [np.sin(ra_np), -np.cos(ra_np), 0.0],\n",
    "                        [0.0,0.0,1.0]])\n",
    "    # @ is a matrix operator\n",
    "    #this is correct with Johnson 1986 values \n",
    "    Transform = T1 @ T2 @ T3 # transformation matrix\n",
    "    A = np.array([[np.dot(np.cos(ra),np.cos(dec)), -np.sin(ra), np.dot(np.cos(ra),np.sin(dec))],\n",
    "                 [np.dot(np.sin(ra), np.cos(dec)), np.cos(ra), -np.dot(np.sin(ra), np.sin(dec))],\n",
    "                 [np.sin(dec), 0.0, np.cos(dec)]])\n",
    "    #each star will have a unique matrix\n",
    "    B = Transform @ A\n",
    "    return B"
   ]
  },
  {
   "cell_type": "code",
   "execution_count": 10,
   "id": "395bddf6-2191-4382-b679-b07bd6a5cfad",
   "metadata": {},
   "outputs": [],
   "source": [
    "def calculate_space_velocity(table):\n",
    "    '''Caulate the space velocity of a star WRT the local standard of rest, subtracting solar motion'''\n",
    "\n",
    "    UVW = []\n",
    "    for row in table:\n",
    "        ra = np.radians(row['ra'])\n",
    "        dec = np.radians(row['dec'])\n",
    "        \n",
    "        pmra = row['pmra'] * 1e-3  # mas/yr to as/yr\n",
    "        pmdec = row['pmdec'] * 1e-3\n",
    "        \n",
    "        prlx = row['parallax'] * 1e-3  # mas to as\n",
    "        radial = row['radial_velocity']  # km/s\n",
    "        B= transform_space_velocity(ra, dec) # calculate the transform tensor\n",
    "    \n",
    "        comp_array = np.array([radial, k*pmra/prlx, k*pmdec/prlx])\n",
    "        UVW_val = np.dot(B,comp_array)\n",
    "        #subtract solar motions\n",
    "        UVW_val[0] = UVW_val[0] - U_sun\n",
    "        UVW_val[1] = UVW_val[1] - V_sun\n",
    "        UVW_val[2] = UVW_val[2] - W_sun\n",
    "        UVW.append(UVW_val)\n",
    "    UVW = np.array([UVW])\n",
    "    space_U = UVW[:,0]*u.km/u.s\n",
    "    space_V = UVW[:,1]*u.km/u.s\n",
    "    space_W = UVW[:,2]*u.km/u.s\n",
    "    table.add_columns([space_U,space_V,space_W],names=['U','V','W'])\n",
    "    \n",
    "    return table\n",
    "    "
   ]
  },
  {
   "cell_type": "code",
   "execution_count": 11,
   "id": "baa3d194-238a-4be1-accb-3e7ca4b8e8b2",
   "metadata": {},
   "outputs": [],
   "source": [
    "def solar_proper_motion(table):\n",
    "    '''Calculate the proper motion compoent due to solar motion in the galactic plane\n",
    "    '''\n",
    "    lat = table['b']\n",
    "    long = table['l']\n",
    "    dist = table['distance']\n",
    "    #convert to radians\n",
    "    long_rad = np.radians(long)\n",
    "    lat_rad = np.radians(lat)\n",
    "    \n",
    "    Kr_mul_sol = U_sun*np.sin(long_rad) - V_sun*np.cos(lat_rad)\n",
    "    mul_sol = (Kr_mul_sol/(k*dist)) * u.mas/u.yr # need to specifiy units to subtract from proper motion\n",
    "    \n",
    "    Kr_mub_sol = U_sun*np.cos(long_rad)*np.sin(lat_rad) + V_sun*np.sin(long_rad)*np.sin(lat_rad) - W_sun*np.cos(lat_rad)\n",
    "    mub_sol = (Kr_mub_sol/(k*dist)) *u.mas/u.yr\n",
    "    table.add_columns([mul_sol,mub_sol],names=['mu_l_sol','mu_b_sol'])\n",
    "    return table"
   ]
  },
  {
   "cell_type": "code",
   "execution_count": 12,
   "id": "1a596720-3c9f-4b80-9e77-32ad4688a446",
   "metadata": {},
   "outputs": [],
   "source": [
    "def flat_rotation_curve(table):\n",
    "    '''Based off moffat 1998\n",
    "    Model the proper motion in l and b due to the galactic rotation curve\n",
    "    Uses flat rotation curve model good for 3 < R < 18 Kpc ( 2*R0)'''\n",
    "    R = table['galactic distance']\n",
    "    lat = table['b']\n",
    "    long = table['l']\n",
    "    dist = table['distance']\n",
    "    omega_0 = sun_curve/R0 # km/s per kpc\n",
    "    omega  =sun_curve/R\n",
    "    long_rad = np.radians(long)\n",
    "    lat_rad = np.radians(lat)\n",
    "    #calculate proper motion due to galactic rotation\n",
    "    K_mul_rot = ((R0/(dist*np.cos(lat_rad))) *(omega-omega_0)*np.cos(long_rad))-omega\n",
    "    mul_rot = K_mul_rot/(k)\n",
    "    #add units\n",
    "    mul_rot = mul_rot*u.mas/u.yr\n",
    "    #do the same for latitudal proper motion\n",
    "    K_mub_rot = -(R0 /dist)*(omega-omega_0)*np.sin(lat_rad)*np.sin(long_rad)\n",
    "    mub_rot = K_mub_rot/k*u.mas/u.yr\n",
    "    #ADD TO TABLE\n",
    "    table.add_column(mul_rot,name='pm_l_rot')\n",
    "    table.add_column(mub_rot,name='pm_b_rot')\n",
    "    return table"
   ]
  },
  {
   "cell_type": "code",
   "execution_count": null,
   "id": "c463a4f7-839d-421f-9d0a-219ed765b3d5",
   "metadata": {},
   "outputs": [],
   "source": []
  },
  {
   "cell_type": "code",
   "execution_count": null,
   "id": "de1525c4-66d9-4350-b58b-e015dff42985",
   "metadata": {},
   "outputs": [],
   "source": []
  },
  {
   "cell_type": "markdown",
   "id": "a7b899e5-9794-40f9-bcce-83107e9d8313",
   "metadata": {},
   "source": [
    "# all together"
   ]
  },
  {
   "cell_type": "code",
   "execution_count": 13,
   "id": "7a5d4f0f-846a-41e4-b2ae-275d0c70548f",
   "metadata": {},
   "outputs": [],
   "source": [
    "def lay_pipe(table,filename,filetype):\n",
    "    \n",
    "    #offset the parallax and add distance data\n",
    "    table = modify_parllax_add_distance(table)\n",
    "    #sky object proper motions in l and b\n",
    "    table = make_sky(table)\n",
    "    #galactocentric distance\n",
    "    table = Galaxy_dist(table)\n",
    "    #circular velocity \n",
    "    table= rotation_curve(table)\n",
    "    #local standard of rest\n",
    "    table = vlsr_model(table)\n",
    "\n",
    "    #space velocities \n",
    "    table = calculate_space_velocity(table)\n",
    "    #solar proper motion\n",
    "    table = solar_proper_motion(table)\n",
    "    #flat rortation curve\n",
    "    table = flat_rotation_curve(table)\n",
    "    #write the table\n",
    "    table.write(filename, format=filetype,overwrite=True)\n",
    "    return table"
   ]
  },
  {
   "cell_type": "code",
   "execution_count": null,
   "id": "2787fb4e-08a4-45d9-8847-fb762e6b4324",
   "metadata": {},
   "outputs": [],
   "source": []
  },
  {
   "cell_type": "code",
   "execution_count": 14,
   "id": "e14d084b-6231-4f61-9dce-c65d1de5fa99",
   "metadata": {},
   "outputs": [
    {
     "name": "stderr",
     "output_type": "stream",
     "text": [
      "/tmp/ipykernel_26843/4265837733.py:16: UserWarning: Warning: converting a masked element to nan.\n",
      "  comp_array = np.array([radial, k*pmra/prlx, k*pmdec/prlx])\n"
     ]
    }
   ],
   "source": [
    "test_table = ascii.read('HMXB_with XRBCATS.csv',format='csv')\n",
    "#IT WORKS\n",
    "test_output = lay_pipe(test_table, filename='Test_XRBCATS.ecsv',filetype='ascii.ecsv')"
   ]
  },
  {
   "cell_type": "code",
   "execution_count": 15,
   "id": "db88bfa4-e31f-4d27-9b8d-83003b62cae3",
   "metadata": {},
   "outputs": [
    {
     "data": {
      "text/html": [
       "<div><i>Table length=121</i>\n",
       "<table id=\"table130290054437712\" class=\"table-striped table-bordered table-condensed\">\n",
       "<thead><tr><th>source_id</th><th>ra</th><th>ra_error</th><th>dec</th><th>dec_error</th><th>pmra</th><th>pmra_error</th><th>pmdec</th><th>pmdec_error</th><th>parallax</th><th>parallax_error</th><th>radial_velocity</th><th>radial_velocity_error</th><th>phot_g_mean_mag</th><th>l</th><th>b</th><th>phot_bp_mean_mag</th><th>phot_rp_mean_mag</th><th>bp_rp</th><th>distance</th><th>pm_l</th><th>pm_b</th><th>galactic distance</th><th>circular velocity</th><th>LSR velocity</th><th>U</th><th>V</th><th>W</th><th>mu_l_sol</th><th>mu_b_sol</th><th>pm_l_rot</th><th>pm_b_rot</th></tr></thead>\n",
       "<thead><tr><th></th><th></th><th></th><th></th><th></th><th></th><th></th><th></th><th></th><th>mas</th><th></th><th></th><th></th><th></th><th></th><th></th><th></th><th></th><th></th><th>kpc</th><th>mas / yr</th><th>mas / yr</th><th>kpc</th><th>km / s</th><th>km / s</th><th>km / s</th><th>km / s</th><th>km / s</th><th>mas / yr</th><th>mas / yr</th><th>mas / yr</th><th>mas / yr</th></tr></thead>\n",
       "<thead><tr><th>int64</th><th>float64</th><th>float64</th><th>float64</th><th>float64</th><th>float64</th><th>float64</th><th>float64</th><th>float64</th><th>float64</th><th>float64</th><th>float64</th><th>float64</th><th>float64</th><th>float64</th><th>float64</th><th>float64</th><th>float64</th><th>float64</th><th>float64</th><th>float64</th><th>float64</th><th>float64</th><th>float64</th><th>float64</th><th>float64[3]</th><th>float64[3]</th><th>float64[3]</th><th>float64</th><th>float64</th><th>float64</th><th>float64</th></tr></thead>\n",
       "<tr><td>168450545792009600</td><td>58.84615062234396</td><td>0.02955361269414425</td><td>31.045836091857545</td><td>0.02079164795577526</td><td>-1.282117252826291</td><td>0.05307381600141525</td><td>-1.8690907560201113</td><td>0.030308086425065994</td><td>1.627402622661778</td><td>0.03745640814304352</td><td>--</td><td>--</td><td>6.261696815490723</td><td>163.0813533466715</td><td>-17.136203125538678</td><td>6.439853668212891</td><td>5.930059909820557</td><td>0.509793758392334</td><td>0.6144760897364175</td><td>0.29987397507641034</td><td>-2.2466420505515634</td><td>9.063394189676286</td><td>223.81506681128036</td><td>57.77572175230654</td><td>nan .. nan</td><td>nan .. nan</td><td>nan .. nan</td><td>-3.3829749000143288</td><td>-1.8486200400580908</td><td>-0.4202484622115612</td><td>-0.4025983375739546</td></tr>\n",
       "<tr><td>184497471323752064</td><td>80.64680481184236</td><td>0.025397874414920807</td><td>37.6759929364201</td><td>0.01957647316157818</td><td>1.3049449567151956</td><td>0.04082612693309784</td><td>-3.9994793622028038</td><td>0.02804887294769287</td><td>0.7213697567669315</td><td>0.030094077810645103</td><td>--</td><td>--</td><td>7.2317328453063965</td><td>170.05338802722687</td><td>0.7103172589013076</td><td>7.376429080963135</td><td>6.921237945556641</td><td>0.45519113540649414</td><td>1.3862516284046154</td><td>4.034945160732324</td><td>-1.1907703635148816</td><td>9.868215163177801</td><td>224.56128708057972</td><td>33.03724050675546</td><td>nan .. nan</td><td>nan .. nan</td><td>nan .. nan</td><td>-1.7856893341643292</td><td>-1.1721755380409382</td><td>-0.1306188566067849</td><td>0.009940439865081115</td></tr>\n",
       "<tr><td>252878401557369088</td><td>70.24720739300419</td><td>0.011905986815690994</td><td>44.53034418647852</td><td>0.008385959081351757</td><td>0.10064623612212906</td><td>0.016362275928258896</td><td>-1.186127754569379</td><td>0.013658520765602589</td><td>0.378823380551682</td><td>0.015042701736092567</td><td>--</td><td>--</td><td>10.40385627746582</td><td>159.8470955000755</td><td>-1.2700235829277626</td><td>10.832097053527832</td><td>9.79090690612793</td><td>1.0411901473999023</td><td>2.639752590095405</td><td>0.9560106139046503</td><td>-0.7092759837376443</td><td>11.015119773159219</td><td>225.5294017486117</td><td>59.20502188807201</td><td>nan .. nan</td><td>nan .. nan</td><td>nan .. nan</td><td>-0.7892769981671238</td><td>-0.597587187998077</td><td>-0.4438073449784902</td><td>-0.030656812265844154</td></tr>\n",
       "<tr><td>276644757710014976</td><td>64.92556123476727</td><td>0.012604312971234322</td><td>55.999360679043434</td><td>0.008108320645987988</td><td>-0.4735607216045463</td><td>0.01827656850218773</td><td>-0.5096656032780096</td><td>0.013492867350578308</td><td>0.2100882458297216</td><td>0.014864281751215458</td><td>--</td><td>--</td><td>10.766115188598633</td><td>149.17651611413766</td><td>4.133059262254314</td><td>11.439369201660156</td><td>9.855047225952148</td><td>1.5843219757080078</td><td>4.759904563202022</td><td>0.022268318000563024</td><td>-0.6953581136542384</td><td>12.810032757999913</td><td>226.8654620531654</td><td>75.83556855602039</td><td>nan .. nan</td><td>nan .. nan</td><td>nan .. nan</td><td>-0.35594296728506203</td><td>-0.3433404950633777</td><td>-0.7985036619761263</td><td>0.12115839202699431</td></tr>\n",
       "<tr><td>414196617287885312</td><td>18.996040698840275</td><td>0.010982572101056576</td><td>59.15394486765568</td><td>0.012779636308550835</td><td>-2.4625832668630094</td><td>0.014893881045281887</td><td>-0.546486466252775</td><td>0.01677328534424305</td><td>0.3391933399322079</td><td>0.018039019778370857</td><td>--</td><td>--</td><td>11.412055969238281</td><td>126.08000772759438</td><td>-3.5676859152271287</td><td>11.667165756225586</td><td>10.951165199279785</td><td>0.7160005569458008</td><td>2.9481710938070385</td><td>-2.399276752695038</td><td>-0.778739281151461</td><td>10.505550935625854</td><td>225.1118353299879</td><td>145.18545631063174</td><td>nan .. nan</td><td>nan .. nan</td><td>nan .. nan</td><td>-0.3467165903077935</td><td>-0.5634229362770962</td><td>-2.644620505556004</td><td>-0.1511493220972492</td></tr>\n",
       "<tr><td>426558460884582016</td><td>14.177450998208093</td><td>1.8335996866226196</td><td>60.71672280471204</td><td>2.3911945819854736</td><td>--</td><td>--</td><td>--</td><td>--</td><td>--</td><td>--</td><td>--</td><td>--</td><td>2.0645833015441895</td><td>123.57698659515256</td><td>-2.1484240190698634</td><td>2.7258431911468506</td><td>2.31510853767395</td><td>0.4107346534729004</td><td>--</td><td>0.0</td><td>0.0</td><td>--</td><td>--</td><td>--</td><td>nan .. nan</td><td>nan .. nan</td><td>nan .. nan</td><td>-4.592490868185271</td><td>-7.795510044747213</td><td>8.5</td><td>-8.5</td></tr>\n",
       "<tr><td>427234969757165952</td><td>9.290132580203235</td><td>0.008413794450461864</td><td>61.36013319063004</td><td>0.009818237274885178</td><td>-1.7956235405295953</td><td>0.010947090573608875</td><td>-0.5251300483100196</td><td>0.013608978129923344</td><td>0.27189066538368456</td><td>0.012059882283210754</td><td>--</td><td>--</td><td>9.454655647277832</td><td>121.22141620023214</td><td>-1.4641898756122689</td><td>9.76897144317627</td><td>8.949126243591309</td><td>0.8198451995849609</td><td>3.677948996847052</td><td>-1.8219690241081703</td><td>-0.4247991785920044</td><td>10.870491734584071</td><td>225.41280416340064</td><td>148.84601654902679</td><td>nan .. nan</td><td>nan .. nan</td><td>nan .. nan</td><td>-0.25007730792680954</td><td>-0.4446418257894607</td><td>-2.8427897106767976</td><td>-0.06013234426507411</td></tr>\n",
       "<tr><td>444752973131169664</td><td>53.749629724978455</td><td>0.013929484412074089</td><td>53.17313997828423</td><td>0.012730369344353676</td><td>-0.26805266659388</td><td>0.019742585718631744</td><td>0.4401283844933388</td><td>0.01982794515788555</td><td>0.13434727271763658</td><td>0.020151322707533836</td><td>--</td><td>--</td><td>14.200214385986328</td><td>146.05208942276994</td><td>-2.1940257086354467</td><td>15.475269317626953</td><td>13.086570739746094</td><td>2.3886985778808594</td><td>7.4433963546230135</td><td>-0.4743859443770766</td><td>0.20130375724828203</td><td>15.246797070152677</td><td>228.41658713708378</td><td>69.86204140982059</td><td>nan .. nan</td><td>nan .. nan</td><td>nan .. nan</td><td>-0.21424391247285454</td><td>-0.21377081081802612</td><td>-0.7535385861904507</td><td>-0.05899033651392215</td></tr>\n",
       "<tr><td>465628193526364416</td><td>40.91843191991435</td><td>0.006756731308996677</td><td>61.434377668355616</td><td>0.008564884774386883</td><td>-0.7289798897496916</td><td>0.010312550701200962</td><td>0.13432816094165279</td><td>0.011728739365935326</td><td>0.18150880543038156</td><td>0.011328215710818768</td><td>--</td><td>--</td><td>12.386541366577148</td><td>135.93415668064728</td><td>1.4287879422071408</td><td>13.053085327148438</td><td>11.57657527923584</td><td>1.4765100479125977</td><td>5.509374587248629</td><td>-0.7182351425525998</td><td>-0.18328670023732047</td><td>13.033092972257004</td><td>227.01875464430518</td><td>101.44777357619816</td><td>nan .. nan</td><td>nan .. nan</td><td>nan .. nan</td><td>-0.23299520633503906</td><td>-0.28931468482332157</td><td>-1.4551194295251804</td><td>0.05081322952339959</td></tr>\n",
       "<tr><td>...</td><td>...</td><td>...</td><td>...</td><td>...</td><td>...</td><td>...</td><td>...</td><td>...</td><td>...</td><td>...</td><td>...</td><td>...</td><td>...</td><td>...</td><td>...</td><td>...</td><td>...</td><td>...</td><td>...</td><td>...</td><td>...</td><td>...</td><td>...</td><td>...</td><td>...</td><td>...</td><td>...</td><td>...</td><td>...</td><td>...</td><td>...</td></tr>\n",
       "<tr><td>5943246345430928512</td><td>251.64690161252628</td><td>0.015588409267365932</td><td>-45.11796081034128</td><td>0.010345971211791039</td><td>-1.7593910230172454</td><td>0.02173849754035473</td><td>-3.0641449978293434</td><td>0.016207683831453323</td><td>0.29609864232667726</td><td>0.01728741079568863</td><td>--</td><td>--</td><td>13.484343528747559</td><td>340.0535299011336</td><td>0.13502926660407388</td><td>14.956766128540039</td><td>12.313040733337402</td><td>2.6437253952026367</td><td>3.3772529051204776</td><td>-3.473387427622853</td><td>-0.6480903619309363</td><td>5.448554637089247</td><td>219.40326983409153</td><td>-116.03321689387164</td><td>nan .. nan</td><td>nan .. nan</td><td>nan .. nan</td><td>-1.0797166110784697</td><td>-0.47394444140707515</td><td>-1.2834814625158606</td><td>0.00618792713623854</td></tr>\n",
       "<tr><td>5966213219190201856</td><td>255.105188622121</td><td>0.02066669799387455</td><td>-42.31675095154189</td><td>0.014143426902592182</td><td>1.1808321110237392</td><td>0.029523560777306557</td><td>-1.4697065617940481</td><td>0.023353278636932373</td><td>0.6405461879152953</td><td>0.022926293313503265</td><td>--</td><td>--</td><td>8.707157135009766</td><td>343.8034017764549</td><td>-0.029940309902722347</td><td>9.097728729248047</td><td>8.094566345214844</td><td>1.0031623840332031</td><td>1.561167670444771</td><td>-0.42992027890752654</td><td>-1.835638963954877</td><td>7.014325126790979</td><td>221.58213842489465</td><td>-74.29904148501849</td><td>nan .. nan</td><td>nan .. nan</td><td>nan .. nan</td><td>-2.244950376897625</td><td>-1.0275004457303745</td><td>-0.5698987526876927</td><td>-0.0009178419669873349</td></tr>\n",
       "<tr><td>5976382915813535232</td><td>255.9865659301791</td><td>0.021049443632364273</td><td>-37.8441202722809</td><td>0.012138224206864834</td><td>2.4137032635492046</td><td>0.028064759448170662</td><td>5.021949969731823</td><td>0.021347088739275932</td><td>0.6327358617075665</td><td>0.02594889886677265</td><td>--</td><td>--</td><td>6.420469760894775</td><td>347.75444710988126</td><td>2.173492429913019</td><td>6.575953483581543</td><td>6.088586330413818</td><td>0.4873671531677246</td><td>1.5804383163952436</td><td>5.455603348660081</td><td>1.1324032166355131</td><td>6.9646916981903955</td><td>221.52058975292903</td><td>-56.84609840595855</td><td>nan .. nan</td><td>nan .. nan</td><td>nan .. nan</td><td>-2.119920823634637</td><td>-0.974954593248736</td><td>-0.333036617639879</td><td>0.052075832776272056</td></tr>\n",
       "<tr><td>5980409632300781056</td><td>260.0246347466105</td><td>0.14206048846244812</td><td>-31.283210647628042</td><td>0.09625773131847382</td><td>-4.450374129916061</td><td>0.16434164345264435</td><td>-4.677040280971733</td><td>0.11456924676895142</td><td>-0.05451144161879737</td><td>0.1602022796869278</td><td>--</td><td>--</td><td>17.91213035583496</td><td>355.0221182281025</td><td>3.3474131126407536</td><td>20.115522384643555</td><td>16.507015228271484</td><td>3.6085071563720703</td><td>-18.34477258908461</td><td>-6.379588180320526</td><td>-0.990651470282531</td><td>26.791567888914727</td><td>233.51140834232802</td><td>-6.2314950194128595</td><td>nan .. nan</td><td>nan .. nan</td><td>nan .. nan</td><td>0.16691455001248465</td><td>0.08082072853620235</td><td>-0.008598494223697344</td><td>0.008751849693248716</td></tr>\n",
       "<tr><td>6053076566300433920</td><td>183.31156879290245</td><td>0.012357387691736221</td><td>-64.87513252303748</td><td>0.015193149447441101</td><td>-5.95305662663964</td><td>0.01588580757379532</td><td>0.449629791184431</td><td>0.02075292356312275</td><td>0.26448691327892004</td><td>0.01766935922205448</td><td>--</td><td>--</td><td>13.976888656616211</td><td>298.89007133029565</td><td>-2.303521643360621</td><td>14.39801025390625</td><td>13.351907730102539</td><td>1.046102523803711</td><td>3.7809054051208566</td><td>-5.954155851689633</td><td>-0.43483128094560125</td><td>7.449418244846888</td><td>222.10444742848472</td><td>-219.8306787168525</td><td>nan .. nan</td><td>nan .. nan</td><td>nan .. nan</td><td>-1.2858824425421997</td><td>-0.40872604268783935</td><td>-5.393397656845806</td><td>-0.06092405130983405</td></tr>\n",
       "<tr><td>6054569565614460800</td><td>186.65645139154256</td><td>0.012048251926898956</td><td>-62.77035949368261</td><td>0.013341481797397137</td><td>-5.226856654124623</td><td>0.015758464112877846</td><td>-2.0707848986747575</td><td>0.01876610517501831</td><td>0.25062115141915803</td><td>0.015989607200026512</td><td>--</td><td>--</td><td>9.751055717468262</td><td>300.0980601666885</td><td>-0.03521279949727996</td><td>11.023402214050293</td><td>8.626957893371582</td><td>2.396444320678711</td><td>3.9900862091544833</td><td>-5.00349554654933</td><td>-2.563827781854175</td><td>7.358978661701656</td><td>221.99833624767234</td><td>-219.98872923150418</td><td>nan .. nan</td><td>nan .. nan</td><td>nan .. nan</td><td>-1.2131235486080236</td><td>-0.4016333919104285</td><td>-5.402589516495102</td><td>-0.0009589960648622032</td></tr>\n",
       "<tr><td>6054778507172454912</td><td>188.50210227953616</td><td>0.04590492323040962</td><td>-61.71761859192175</td><td>0.04630792513489723</td><td>-5.117225288166624</td><td>0.0560368187725544</td><td>0.9981333214208672</td><td>0.05972761660814285</td><td>0.013984799250916106</td><td>0.061268821358680725</td><td>--</td><td>--</td><td>16.240846633911133</td><td>300.868492644533</td><td>1.084281380369064</td><td>19.313552856445312</td><td>14.732503890991211</td><td>4.581048965454102</td><td>71.50621056891416</td><td>-5.173013637253435</td><td>0.6497651006114555</td><td>67.52761627337328</td><td>242.11535366797196</td><td>-24.312086166459146</td><td>nan .. nan</td><td>nan .. nan</td><td>nan .. nan</td><td>-0.06746843751307392</td><td>-0.022761243167410416</td><td>-0.9784838909976112</td><td>-0.009215753064469312</td></tr>\n",
       "<tr><td>6055103928246312960</td><td>190.70931703328822</td><td>0.05288095399737358</td><td>-63.05864217078729</td><td>0.05445249006152153</td><td>-12.857201869803877</td><td>0.06959401816129684</td><td>-3.6770768880918028</td><td>0.0740465447306633</td><td>2.282573124548697</td><td>0.07652348279953003</td><td>--</td><td>--</td><td>5.136850357055664</td><td>301.9579033881775</td><td>-0.2031588592223847</td><td>5.317963123321533</td><td>4.793644905090332</td><td>0.5243182182312012</td><td>0.43810206527237405</td><td>-12.727249749585196</td><td>-4.10434503587486</td><td>8.276466582440497</td><td>223.02114793853391</td><td>-192.50734225753504</td><td>nan .. nan</td><td>nan .. nan</td><td>nan .. nan</td><td>-10.9616656344282</td><td>-3.64985726880965</td><td>-4.093393326965743</td><td>-0.008607924754465908</td></tr>\n",
       "<tr><td>6060547335455660032</td><td>193.6534512999999</td><td>0.062005579471588135</td><td>-57.168711407421895</td><td>0.08000237494707108</td><td>-28.38602111310031</td><td>0.08820656687021255</td><td>-10.446722229219034</td><td>0.11208841949701309</td><td>8.266773469896965</td><td>0.11696327477693558</td><td>--</td><td>--</td><td>5.147207260131836</td><td>303.3645146851053</td><td>5.700370988443033</td><td>5.079194068908691</td><td>5.1973466873168945</td><td>-0.11815261840820312</td><td>0.12096617908322384</td><td>-28.51331607557971</td><td>-10.094107505962205</td><td>8.43440111930301</td><td>223.18614035669546</td><td>-185.1392584919189</td><td>nan .. nan</td><td>nan .. nan</td><td>nan .. nan</td><td>-39.333071446783286</td><td>-14.12791932027623</td><td>-3.8535434597302074</td><td>0.24755455347538802</td></tr>\n",
       "</table></div>"
      ],
      "text/plain": [
       "<Table length=121>\n",
       "     source_id              ra         ...        pm_b_rot       \n",
       "                                       ...        mas / yr       \n",
       "       int64             float64       ...        float64        \n",
       "------------------- ------------------ ... ----------------------\n",
       " 168450545792009600  58.84615062234396 ...    -0.4025983375739546\n",
       " 184497471323752064  80.64680481184236 ...   0.009940439865081115\n",
       " 252878401557369088  70.24720739300419 ...  -0.030656812265844154\n",
       " 276644757710014976  64.92556123476727 ...    0.12115839202699431\n",
       " 414196617287885312 18.996040698840275 ...    -0.1511493220972492\n",
       " 426558460884582016 14.177450998208093 ...                   -8.5\n",
       " 427234969757165952  9.290132580203235 ...   -0.06013234426507411\n",
       " 444752973131169664 53.749629724978455 ...   -0.05899033651392215\n",
       " 465628193526364416  40.91843191991435 ...    0.05081322952339959\n",
       "                ...                ... ...                    ...\n",
       "5943246345430928512 251.64690161252628 ...    0.00618792713623854\n",
       "5966213219190201856   255.105188622121 ... -0.0009178419669873349\n",
       "5976382915813535232  255.9865659301791 ...   0.052075832776272056\n",
       "5980409632300781056  260.0246347466105 ...   0.008751849693248716\n",
       "6053076566300433920 183.31156879290245 ...   -0.06092405130983405\n",
       "6054569565614460800 186.65645139154256 ... -0.0009589960648622032\n",
       "6054778507172454912 188.50210227953616 ...  -0.009215753064469312\n",
       "6055103928246312960 190.70931703328822 ...  -0.008607924754465908\n",
       "6060547335455660032  193.6534512999999 ...    0.24755455347538802"
      ]
     },
     "execution_count": 15,
     "metadata": {},
     "output_type": "execute_result"
    }
   ],
   "source": [
    "test_output"
   ]
  },
  {
   "cell_type": "code",
   "execution_count": 16,
   "id": "f2ab4afd-e553-430e-97b6-3cde7c99ee5b",
   "metadata": {},
   "outputs": [],
   "source": [
    "negative_parallax_mask = test_output['parallax'] < 0\n",
    "negative_parallax = test_output[negative_parallax_mask]"
   ]
  },
  {
   "cell_type": "code",
   "execution_count": 17,
   "id": "65791fbb-9b41-4b26-8b03-8c7933f41275",
   "metadata": {},
   "outputs": [
    {
     "data": {
      "text/html": [
       "<div><i>Table length=17</i>\n",
       "<table id=\"table130287557487808\" class=\"table-striped table-bordered table-condensed\">\n",
       "<thead><tr><th>source_id</th><th>ra</th><th>ra_error</th><th>dec</th><th>dec_error</th><th>pmra</th><th>pmra_error</th><th>pmdec</th><th>pmdec_error</th><th>parallax</th><th>parallax_error</th><th>radial_velocity</th><th>radial_velocity_error</th><th>phot_g_mean_mag</th><th>l</th><th>b</th><th>phot_bp_mean_mag</th><th>phot_rp_mean_mag</th><th>bp_rp</th><th>distance</th><th>pm_l</th><th>pm_b</th><th>galactic distance</th><th>circular velocity</th><th>LSR velocity</th><th>U</th><th>V</th><th>W</th><th>mu_l_sol</th><th>mu_b_sol</th><th>pm_l_rot</th><th>pm_b_rot</th></tr></thead>\n",
       "<thead><tr><th></th><th></th><th></th><th></th><th></th><th></th><th></th><th></th><th></th><th>mas</th><th></th><th></th><th></th><th></th><th></th><th></th><th></th><th></th><th></th><th>kpc</th><th>mas / yr</th><th>mas / yr</th><th>kpc</th><th>km / s</th><th>km / s</th><th>km / s</th><th>km / s</th><th>km / s</th><th>mas / yr</th><th>mas / yr</th><th>mas / yr</th><th>mas / yr</th></tr></thead>\n",
       "<thead><tr><th>int64</th><th>float64</th><th>float64</th><th>float64</th><th>float64</th><th>float64</th><th>float64</th><th>float64</th><th>float64</th><th>float64</th><th>float64</th><th>float64</th><th>float64</th><th>float64</th><th>float64</th><th>float64</th><th>float64</th><th>float64</th><th>float64</th><th>float64</th><th>float64</th><th>float64</th><th>float64</th><th>float64</th><th>float64</th><th>float64[3]</th><th>float64[3]</th><th>float64[3]</th><th>float64</th><th>float64</th><th>float64</th><th>float64</th></tr></thead>\n",
       "<tr><td>2028089540103670144</td><td>296.4139748795565</td><td>0.01702195405960083</td><td>27.365399152475934</td><td>0.022254357114434242</td><td>-2.4130254444730657</td><td>0.023112494498491287</td><td>-4.043007630284439</td><td>0.028101064264774323</td><td>-0.008479247875940794</td><td>0.029170023277401924</td><td>--</td><td>--</td><td>15.688565254211426</td><td>63.207143530473964</td><td>1.3955652936534102</td><td>17.111873626708984</td><td>14.524065971374512</td><td>2.5878076553344727</td><td>-117.93498841299618</td><td>-4.707934581942199</td><td>-0.0628845479063126</td><td>121.96775117591173</td><td>247.78448992834802</td><td>13.49406747746348</td><td>nan .. nan</td><td>nan .. nan</td><td>nan .. nan</td><td>0.007075757145056262</td><td>0.012850379177244686</td><td>-0.21545347730656647</td><td>-0.007959595834194805</td></tr>\n",
       "<tr><td>2070085317968809216</td><td>310.8277570377428</td><td>0.05323758348822594</td><td>44.638891277204316</td><td>0.05205783620476723</td><td>-2.6133344012162185</td><td>0.06613888591527939</td><td>-4.23233099180295</td><td>0.07114925980567932</td><td>-0.021730849468608877</td><td>0.0633568987250328</td><td>--</td><td>--</td><td>16.563579559326172</td><td>83.98370959231536</td><td>1.3407233597302817</td><td>18.875045776367188</td><td>15.183072090148926</td><td>3.6919736862182617</td><td>-46.01752920172503</td><td>-4.942480244730856</td><td>0.5603849990864211</td><td>47.65159854526065</td><td>238.8338467009901</td><td>40.22212420582842</td><td>nan .. nan</td><td>nan .. nan</td><td>nan .. nan</td><td>0.013092431926316542</td><td>0.033260922081759646</td><td>-0.8871377445735654</td><td>-0.019282854730330406</td></tr>\n",
       "<tr><td>4040960662373474176</td><td>265.75551465281137</td><td>0.08151785284280777</td><td>-36.37284591519637</td><td>0.05715549737215042</td><td>-4.482602975761192</td><td>0.10855074971914291</td><td>-1.6461457547450966</td><td>0.0531751848757267</td><td>-0.0831833534250851</td><td>0.09846801310777664</td><td>--</td><td>--</td><td>15.22121810913086</td><td>353.370063329925</td><td>-3.4202891724245283</td><td>19.521650314331055</td><td>13.430912971496582</td><td>6.090737342834473</td><td>-12.021636046454892</td><td>-3.7485315671789854</td><td>-2.9583840815605753</td><td>20.466921362237446</td><td>231.06359064897373</td><td>-10.812220077687519</td><td>nan .. nan</td><td>nan .. nan</td><td>nan .. nan</td><td>0.26012701286013934</td><td>0.14272441950135756</td><td>-0.02141629319206128</td><td>-0.01554927109342661</td></tr>\n",
       "<tr><td>4070968778561141760</td><td>270.6747368583342</td><td>0.10467880219221115</td><td>-20.28816679699591</td><td>0.08847612142562866</td><td>-3.4065403956576787</td><td>0.12249838560819626</td><td>-5.488820512486482</td><td>0.09348345547914505</td><td>-0.1513713833942148</td><td>0.13062472641468048</td><td>--</td><td>--</td><td>16.801586151123047</td><td>9.420451483310611</td><td>1.0361026058400398</td><td>19.17436981201172</td><td>15.385049819946289</td><td>3.7893199920654297</td><td>-6.606268487325052</td><td>-6.45483217489778</td><td>-0.258475684435363</td><td>15.054978388905397</td><td>228.30345508361117</td><td>20.743258939318288</td><td>nan .. nan</td><td>nan .. nan</td><td>nan .. nan</td><td>0.37779144898256045</td><td>0.23522759021806453</td><td>-0.06469622604052816</td><td>-0.0090537041235709</td></tr>\n",
       "<tr><td>4256500538116700160</td><td>280.251804741005</td><td>0.03932623937726021</td><td>-5.596266865591954</td><td>0.033235520124435425</td><td>-2.0680431345707846</td><td>0.046430107206106186</td><td>-5.376487117697893</td><td>0.04031432792544365</td><td>-0.1100908803641378</td><td>0.040199145674705505</td><td>--</td><td>--</td><td>12.965173721313477</td><td>26.764284956669265</td><td>-0.23881101580482592</td><td>14.4266357421875</td><td>11.725309371948242</td><td>2.701326370239258</td><td>-9.083404517180615</td><td>-5.7267698387132135</td><td>0.6225137328777683</td><td>17.106436984311784</td><td>229.44754397868894</td><td>50.373918048665765</td><td>nan .. nan</td><td>nan .. nan</td><td>nan .. nan</td><td>0.20291129740154318</td><td>0.17804186612906528</td><td>-0.41786328802653117</td><td>0.004825165823966577</td></tr>\n",
       "<tr><td>4306419980916246656</td><td>287.70087185633383</td><td>0.6632866859436035</td><td>7.597656302411205</td><td>0.8158612847328186</td><td>-3.786420226899895</td><td>0.8647276163101196</td><td>-9.027830218995849</td><td>0.9569331407546997</td><td>-0.21834884572443208</td><td>0.7401312589645386</td><td>--</td><td>--</td><td>20.154319763183594</td><td>41.896989864779755</td><td>-0.8116366366050681</td><td>21.837675094604492</td><td>18.38613510131836</td><td>3.451539993286133</td><td>-4.57982727905992</td><td>-9.755965833877756</td><td>0.8122975107073298</td><td>12.295016786769184</td><td>226.50150082553307</td><td>103.12508359236931</td><td>nan .. nan</td><td>nan .. nan</td><td>nan .. nan</td><td>0.29419357080422676</td><td>0.3612319047687074</td><td>-1.446364879748202</td><td>0.02959010154267016</td></tr>\n",
       "<tr><td>4309253392325650176</td><td>288.5176059060096</td><td>0.3038829267024994</td><td>9.882864373650197</td><td>0.3366641402244568</td><td>-1.5972729990761414</td><td>0.3822231590747833</td><td>-5.515624391179957</td><td>0.43199238181114197</td><td>-0.024111477116206592</td><td>0.3850174844264984</td><td>--</td><td>--</td><td>18.248119354248047</td><td>44.29634703521837</td><td>-0.4687718341225378</td><td>21.49799919128418</td><td>16.360944747924805</td><td>5.137054443359375</td><td>-41.47402480488628</td><td>-5.6266898778087295</td><td>1.1461912916794448</td><td>47.92545553843593</td><td>238.88742448999852</td><td>28.08890193630865</td><td>nan .. nan</td><td>nan .. nan</td><td>nan .. nan</td><td>0.03081158126686839</td><td>0.03937544177488098</td><td>-0.3095105838427327</td><td>0.005260148661856849</td></tr>\n",
       "<tr><td>4310118570535453696</td><td>284.75680882608543</td><td>0.2963730990886688</td><td>8.245457254312521</td><td>0.33733880519866943</td><td>-1.990330774755356</td><td>0.36828628182411194</td><td>-3.255504337241219</td><td>0.36267372965812683</td><td>-0.46894960662420804</td><td>0.3779982924461365</td><td>--</td><td>--</td><td>19.470138549804688</td><td>41.134383384326995</td><td>2.0764458051903394</td><td>20.9979305267334</td><td>18.006860733032227</td><td>2.991069793701172</td><td>-2.132425288078658</td><td>-3.8048578005888585</td><td>-0.2877189601551419</td><td>10.20179561797537</td><td>224.85356672469476</td><td>121.74846835314487</td><td>nan .. nan</td><td>nan .. nan</td><td>nan .. nan</td><td>0.6417421595185417</td><td>0.6901798038049529</td><td>-1.8131469830015683</td><td>-0.08653984560120202</td></tr>\n",
       "<tr><td>4310649153642824320</td><td>286.1977687539877</td><td>0.5593506097793579</td><td>9.044911040402665</td><td>0.6179036498069763</td><td>-0.8740526031784608</td><td>0.7261876463890076</td><td>-4.776992721613207</td><td>0.8123673796653748</td><td>-0.28522739223478544</td><td>0.6127469539642334</td><td>--</td><td>--</td><td>19.756729125976562</td><td>42.49718850001616</td><td>1.1748721935698823</td><td>21.705068588256836</td><td>18.256303787231445</td><td>3.4487648010253906</td><td>-3.5059746266475282</td><td>-4.6459482174011875</td><td>1.4137866093209868</td><td>11.334562788557271</td><td>225.78180719419635</td><td>112.90945790730039</td><td>nan .. nan</td><td>nan .. nan</td><td>nan .. nan</td><td>0.37916934386806767</td><td>0.43606992857862714</td><td>-1.653354267416405</td><td>-0.04585793825792967</td></tr>\n",
       "<tr><td>4512787627579740032</td><td>287.8284321301368</td><td>0.036209411919116974</td><td>15.5424152324057</td><td>0.03783654049038887</td><td>-2.3316551907380143</td><td>0.049541350454092026</td><td>-5.026141821941105</td><td>0.04540832340717316</td><td>-0.16699852326467718</td><td>0.04806249961256981</td><td>--</td><td>--</td><td>13.4966402053833</td><td>49.00379131724761</td><td>2.746286085927929</td><td>14.90600872039795</td><td>12.305709838867188</td><td>2.6002988815307617</td><td>-5.988076903022026</td><td>-5.535232412090894</td><td>0.24478498095154985</td><td>13.218472293463714</td><td>227.14424638314063</td><td>108.49625754024312</td><td>nan .. nan</td><td>nan .. nan</td><td>nan .. nan</td><td>0.1914158221191582</td><td>0.23816653846866986</td><td>-1.6941304877634933</td><td>-0.1000549992391724</td></tr>\n",
       "<tr><td>5854175187680510336</td><td>215.3014007027238</td><td>0.0445520356297493</td><td>-62.698879401723076</td><td>0.0705314502120018</td><td>-6.425947989496359</td><td>0.05724417790770531</td><td>-4.332038707619241</td><td>0.09649991244077682</td><td>-0.02201005154412218</td><td>0.10595280677080154</td><td>--</td><td>--</td><td>17.756834030151367</td><td>313.0200507368387</td><td>-1.5986266459253018</td><td>--</td><td>--</td><td>--</td><td>-45.433787285566424</td><td>-7.515781700512182</td><td>1.89007734187517</td><td>51.59092061029556</td><td>239.5775437799766</td><td>-27.27859912240658</td><td>nan .. nan</td><td>nan .. nan</td><td>nan .. nan</td><td>0.0997916631957721</td><td>0.034943095221374634</td><td>-0.3172825245692746</td><td>-0.01740330163811283</td></tr>\n",
       "<tr><td>5882543824607819776</td><td>236.02135471814512</td><td>0.23264913260936737</td><td>-56.76187017074616</td><td>0.21859543025493622</td><td>-4.167843287744988</td><td>0.3054322898387909</td><td>-2.6135336595940055</td><td>0.28812435269355774</td><td>-0.3558469877940469</td><td>0.30544930696487427</td><td>--</td><td>--</td><td>--</td><td>324.9605894142377</td><td>-1.4644638526861036</td><td>--</td><td>17.34893798828125</td><td>--</td><td>-2.8101966134353473</td><td>-4.897447741090897</td><td>-0.46527570785013617</td><td>10.919892148689586</td><td>225.45279694256428</td><td>-99.4916281898054</td><td>nan .. nan</td><td>nan .. nan</td><td>nan .. nan</td><td>1.486169202390989</td><td>0.5723543988006143</td><td>-1.2527027223185043</td><td>-0.053704619746846094</td></tr>\n",
       "<tr><td>5883218164517055488</td><td>230.1701764075732</td><td>0.10015206784009933</td><td>-57.166742166539116</td><td>0.10098147392272949</td><td>-5.549152942694518</td><td>0.1326756626367569</td><td>-4.07252990135312</td><td>0.15664492547512054</td><td>-0.2599981143064274</td><td>0.13540777564048767</td><td>--</td><td>--</td><td>17.775951385498047</td><td>322.1184786573702</td><td>0.03771540102283994</td><td>20.04833984375</td><td>16.051708221435547</td><td>3.996631622314453</td><td>-3.8461817412314945</td><td>-6.8694133477260735</td><td>0.43561271436147453</td><td>11.77498964258983</td><td>226.11882488999112</td><td>-98.90890906466117</td><td>nan .. nan</td><td>nan .. nan</td><td>nan .. nan</td><td>1.1097382335768256</td><td>0.4168682613489741</td><td>-1.2926145920550607</td><td>0.0013565945568722946</td></tr>\n",
       "<tr><td>5934776158877214848</td><td>245.19273371546788</td><td>0.03752019628882408</td><td>-51.501706020142436</td><td>0.026348773390054703</td><td>-4.882473484444853</td><td>0.05389139801263809</td><td>-6.022015388741489</td><td>0.04039086401462555</td><td>-0.010569136880923879</td><td>0.04634368419647217</td><td>38.7906379699707</td><td>4.938200950622559</td><td>14.783706665039062</td><td>332.45890500811436</td><td>-1.0501486044356771</td><td>17.447534561157227</td><td>13.340123176574707</td><td>4.1074113845825195</td><td>-94.61510540230482</td><td>-7.707754210303565</td><td>0.832911581198187</td><td>102.21158051363675</td><td>246.0761650472772</td><td>-8.468144246217358</td><td>nan .. nan</td><td>nan .. nan</td><td>nan .. nan</td><td>0.04145480922652503</td><td>0.01707780533965249</td><td>-0.055235969882267734</td><td>-0.0038113978389226685</td></tr>\n",
       "<tr><td>5940576971716473344</td><td>248.16638484576487</td><td>0.041116662323474884</td><td>-49.70382899144433</td><td>0.026625696569681168</td><td>-4.769279217690786</td><td>0.05356945842504501</td><td>-6.12018935660893</td><td>0.0370846651494503</td><td>-0.07756767678732146</td><td>0.05024125427007675</td><td>--</td><td>--</td><td>12.820149421691895</td><td>335.06347356705464</td><td>-1.1557122758724598</td><td>15.312694549560547</td><td>11.378886222839355</td><td>3.9338083267211914</td><td>-12.891967910059302</td><td>-7.729219275187229</td><td>0.6796406499913467</td><td>20.906382477736503</td><td>231.25576788730754</td><td>-38.72829221962739</td><td>nan .. nan</td><td>nan .. nan</td><td>nan .. nan</td><td>0.2970263423208071</td><td>0.12568462419580445</td><td>-0.2823952039435066</td><td>-0.018167871027441707</td></tr>\n",
       "<tr><td>5940777877435137024</td><td>247.95125817288326</td><td>0.13132824003696442</td><td>-48.81687706740887</td><td>0.08851779997348785</td><td>-4.366133479593785</td><td>0.1887052059173584</td><td>-5.774239370792024</td><td>0.13030248880386353</td><td>-0.21289890902543765</td><td>0.1780019998550415</td><td>--</td><td>--</td><td>17.139793395996094</td><td>335.6159688973277</td><td>-0.44775360639278583</td><td>21.76079750061035</td><td>15.382353782653809</td><td>6.378443717956543</td><td>-4.697064933670082</td><td>-7.199076825588053</td><td>0.7604306228154531</td><td>12.924249557911493</td><td>226.94427223463364</td><td>-60.732429589501486</td><td>nan .. nan</td><td>nan .. nan</td><td>nan .. nan</td><td>0.8110986331870483</td><td>0.3428283495414614</td><td>-0.5102231511521282</td><td>-0.010913323092739137</td></tr>\n",
       "<tr><td>5980409632300781056</td><td>260.0246347466105</td><td>0.14206048846244812</td><td>-31.283210647628042</td><td>0.09625773131847382</td><td>-4.450374129916061</td><td>0.16434164345264435</td><td>-4.677040280971733</td><td>0.11456924676895142</td><td>-0.05451144161879737</td><td>0.1602022796869278</td><td>--</td><td>--</td><td>17.91213035583496</td><td>355.0221182281025</td><td>3.3474131126407536</td><td>20.115522384643555</td><td>16.507015228271484</td><td>3.6085071563720703</td><td>-18.34477258908461</td><td>-6.379588180320526</td><td>-0.990651470282531</td><td>26.791567888914727</td><td>233.51140834232802</td><td>-6.2314950194128595</td><td>nan .. nan</td><td>nan .. nan</td><td>nan .. nan</td><td>0.16691455001248465</td><td>0.08082072853620235</td><td>-0.008598494223697344</td><td>0.008751849693248716</td></tr>\n",
       "</table></div>"
      ],
      "text/plain": [
       "<Table length=17>\n",
       "     source_id              ra         ...        pm_b_rot       \n",
       "                                       ...        mas / yr       \n",
       "       int64             float64       ...        float64        \n",
       "------------------- ------------------ ... ----------------------\n",
       "2028089540103670144  296.4139748795565 ...  -0.007959595834194805\n",
       "2070085317968809216  310.8277570377428 ...  -0.019282854730330406\n",
       "4040960662373474176 265.75551465281137 ...   -0.01554927109342661\n",
       "4070968778561141760  270.6747368583342 ...    -0.0090537041235709\n",
       "4256500538116700160   280.251804741005 ...   0.004825165823966577\n",
       "4306419980916246656 287.70087185633383 ...    0.02959010154267016\n",
       "4309253392325650176  288.5176059060096 ...   0.005260148661856849\n",
       "4310118570535453696 284.75680882608543 ...   -0.08653984560120202\n",
       "4310649153642824320  286.1977687539877 ...   -0.04585793825792967\n",
       "4512787627579740032  287.8284321301368 ...    -0.1000549992391724\n",
       "5854175187680510336  215.3014007027238 ...   -0.01740330163811283\n",
       "5882543824607819776 236.02135471814512 ...  -0.053704619746846094\n",
       "5883218164517055488  230.1701764075732 ...  0.0013565945568722946\n",
       "5934776158877214848 245.19273371546788 ... -0.0038113978389226685\n",
       "5940576971716473344 248.16638484576487 ...  -0.018167871027441707\n",
       "5940777877435137024 247.95125817288326 ...  -0.010913323092739137\n",
       "5980409632300781056  260.0246347466105 ...   0.008751849693248716"
      ]
     },
     "execution_count": 17,
     "metadata": {},
     "output_type": "execute_result"
    }
   ],
   "source": [
    "negative_parallax"
   ]
  },
  {
   "cell_type": "code",
   "execution_count": 18,
   "id": "db831c05-9a24-4b82-9eac-9b339f154b91",
   "metadata": {},
   "outputs": [
    {
     "data": {
      "text/html": [
       "&lt;Column name=&apos;source_id&apos; dtype=&apos;int64&apos; length=17&gt;\n",
       "<table>\n",
       "<tr><td>2028089540103670144</td></tr>\n",
       "<tr><td>2070085317968809216</td></tr>\n",
       "<tr><td>4040960662373474176</td></tr>\n",
       "<tr><td>4070968778561141760</td></tr>\n",
       "<tr><td>4256500538116700160</td></tr>\n",
       "<tr><td>4306419980916246656</td></tr>\n",
       "<tr><td>4309253392325650176</td></tr>\n",
       "<tr><td>4310118570535453696</td></tr>\n",
       "<tr><td>4310649153642824320</td></tr>\n",
       "<tr><td>4512787627579740032</td></tr>\n",
       "<tr><td>5854175187680510336</td></tr>\n",
       "<tr><td>5882543824607819776</td></tr>\n",
       "<tr><td>5883218164517055488</td></tr>\n",
       "<tr><td>5934776158877214848</td></tr>\n",
       "<tr><td>5940576971716473344</td></tr>\n",
       "<tr><td>5940777877435137024</td></tr>\n",
       "<tr><td>5980409632300781056</td></tr>\n",
       "</table>"
      ],
      "text/plain": [
       "<Column name='source_id' dtype='int64' length=17>\n",
       "2028089540103670144\n",
       "2070085317968809216\n",
       "4040960662373474176\n",
       "4070968778561141760\n",
       "4256500538116700160\n",
       "4306419980916246656\n",
       "4309253392325650176\n",
       "4310118570535453696\n",
       "4310649153642824320\n",
       "4512787627579740032\n",
       "5854175187680510336\n",
       "5882543824607819776\n",
       "5883218164517055488\n",
       "5934776158877214848\n",
       "5940576971716473344\n",
       "5940777877435137024\n",
       "5980409632300781056"
      ]
     },
     "execution_count": 18,
     "metadata": {},
     "output_type": "execute_result"
    }
   ],
   "source": [
    "negative_parallax_ID = negative_parallax['source_id']\n",
    "negative_parallax_ID"
   ]
  },
  {
   "cell_type": "code",
   "execution_count": 19,
   "id": "92157f61-e821-48ec-ab8c-99c331eb05d1",
   "metadata": {},
   "outputs": [],
   "source": [
    "str_negative_parallax = ','.join(map(str,negative_parallax_ID))"
   ]
  },
  {
   "cell_type": "code",
   "execution_count": 20,
   "id": "2fce955b-ed92-493f-a40f-398e1c5bf9ed",
   "metadata": {},
   "outputs": [
    {
     "name": "stdout",
     "output_type": "stream",
     "text": [
      "2028089540103670144,2070085317968809216,4040960662373474176,4070968778561141760,4256500538116700160,4306419980916246656,4309253392325650176,4310118570535453696,4310649153642824320,4512787627579740032,5854175187680510336,5882543824607819776,5883218164517055488,5934776158877214848,5940576971716473344,5940777877435137024,5980409632300781056\n"
     ]
    }
   ],
   "source": [
    "print(str_negative_parallax)"
   ]
  }
 ],
 "metadata": {
  "kernelspec": {
   "display_name": "Python 3 (ipykernel)",
   "language": "python",
   "name": "python3"
  },
  "language_info": {
   "codemirror_mode": {
    "name": "ipython",
    "version": 3
   },
   "file_extension": ".py",
   "mimetype": "text/x-python",
   "name": "python",
   "nbconvert_exporter": "python",
   "pygments_lexer": "ipython3",
   "version": "3.12.6"
  }
 },
 "nbformat": 4,
 "nbformat_minor": 5
}
