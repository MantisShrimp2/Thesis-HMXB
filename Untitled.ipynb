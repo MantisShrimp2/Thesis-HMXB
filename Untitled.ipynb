{
 "cells": [
  {
   "cell_type": "code",
   "execution_count": 1,
   "id": "06713123-571a-4613-b243-7bf829bbed32",
   "metadata": {},
   "outputs": [],
   "source": [
    "    color_map = {\n",
    "        \"xkcd:blue\": \"O I-III\",\n",
    "        \"xkcd:red\": \"B I-III\",\n",
    "        \"xkcd:Bright Blue\": \"Oe I-III\",\n",
    "        \"xkcd:dark blue\": \"Oe IV-V\",\n",
    "        \"xkcd:green\": \"B0e I-III\",\n",
    "        \"xkcd:bright green\": \"B1e I-III\",\n",
    "        \"xkcd:grass green\": \"B2e I-III\",\n",
    "        \"xkcd:black\": \"OB IV-V\",\n",
    "        \"xkcd:grey\": \"M,A,None\",\n",
    "        \"xkcd:purple\": \"B0e IV-V\",\n",
    "        \"xkcd:light purple\": \"B1e IV-V\",\n",
    "        \"xkcd:dark purple\": \"B2e IV-V\",\n",
    "    }\n",
    "    groups = {\n",
    "        \"O I-III\": [\"xkcd:blue\"],\n",
    "        \"B I-III\": [\"xkcd:red\"],\n",
    "        \"Oe\": [\"xkcd:Bright Blue\", \"xkcd:dark blue\"],\n",
    "        \"Be I-III\": [\"xkcd:green\", \"xkcd:bright green\", \"xkcd:dark green\"]\n",
    "    }\n",
    "    "
   ]
  },
  {
   "cell_type": "code",
   "execution_count": 8,
   "id": "32d34da4-fd60-4cd3-9657-b370fb64a17d",
   "metadata": {},
   "outputs": [
    {
     "data": {
      "text/plain": [
       "dict_values([['xkcd:blue'], ['xkcd:red'], ['xkcd:Bright Blue', 'xkcd:dark blue'], ['xkcd:green', 'xkcd:bright green', 'xkcd:dark green']])"
      ]
     },
     "execution_count": 8,
     "metadata": {},
     "output_type": "execute_result"
    }
   ],
   "source": []
  }
 ],
 "metadata": {
  "kernelspec": {
   "display_name": "Python 3 (ipykernel)",
   "language": "python",
   "name": "python3"
  },
  "language_info": {
   "codemirror_mode": {
    "name": "ipython",
    "version": 3
   },
   "file_extension": ".py",
   "mimetype": "text/x-python",
   "name": "python",
   "nbconvert_exporter": "python",
   "pygments_lexer": "ipython3",
   "version": "3.12.6"
  }
 },
 "nbformat": 4,
 "nbformat_minor": 5
}
